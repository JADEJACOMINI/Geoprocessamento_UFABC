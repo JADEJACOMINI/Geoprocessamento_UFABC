{
  "nbformat": 4,
  "nbformat_minor": 0,
  "metadata": {
    "colab": {
      "provenance": []
    },
    "kernelspec": {
      "name": "python3",
      "display_name": "Python 3"
    },
    "language_info": {
      "name": "python"
    }
  },
  "cells": [
    {
      "cell_type": "markdown",
      "source": [
        "# 6. Geocodificação\n",
        "\n",
        "A **geocodificação** é o processo de converter descrições textuais de locais — como endereços, nomes de cidades, CEPs ou pontos de interesse — em **coordenadas geográficas** (latitude e longitude).  \n",
        "Essa técnica é fundamental no geoprocessamento, pois permite associar informações descritivas a posições específicas no espaço, integrando dados não espaciais ao ambiente geográfico.\n",
        "\n",
        "---\n",
        "\n",
        "## Funcionamento da geocodificação\n",
        "\n",
        "O processo depende de **bases de dados geográficas** que contenham informações sobre ruas, cidades, estados, códigos postais e outros elementos espaciais.  \n",
        "Quando um endereço é fornecido, o sistema busca correspondências na base, podendo considerar coincidências exatas ou aproximações, a depender da qualidade e da atualização dos dados.  \n",
        "\n",
        "Exemplo: ao inserir o endereço **“Avenida Paulista, 1578, São Paulo, Brasil”**, o sistema identifica o registro correspondente e retorna as coordenadas aproximadas:  \n",
        "\n",
        "```\n",
        "\n",
        "(-23.561684, -46.655981)\n",
        "\n",
        "```\n",
        "\n",
        "Muitos serviços conseguem lidar ainda com variantes de escrita, abreviações ou pequenos erros de digitação.\n",
        "\n",
        "---\n",
        "\n",
        "## Tipos de geocodificação\n",
        "\n",
        "- **Geocodificação direta**: converte endereços em coordenadas.  \n",
        "  Exemplo: **“Praça Mauá, 1 - Centro, Rio de Janeiro, RJ, Brasil”** (Museu do Amanhã) → **(-22.894730, -43.181848)**  \n",
        "\n",
        "- **Geocodificação reversa**: realiza o processo inverso, transformando coordenadas em endereços ou descrições textuais.  \n",
        "  Exemplo: **(-22.894730, -43.181848)** → **“Praça Mauá, 1 - Centro, Rio de Janeiro, RJ, Brasil”**  \n",
        "\n",
        "Esses dois procedimentos são complementares e permitem tanto localizar elementos no espaço quanto contextualizar pontos em termos de sua descrição textual.\n",
        "\n",
        "---\n",
        "\n",
        "## Fatores que influenciam a qualidade\n",
        "\n",
        "A precisão da geocodificação está diretamente ligada à **qualidade da base utilizada**.  \n",
        "- Serviços globais como **Google Maps** e **OpenStreetMap** oferecem ampla cobertura e atualização frequente.  \n",
        "- Bases desatualizadas podem gerar resultados imprecisos, principalmente em áreas urbanas com mudanças recentes na malha viária.\n",
        "\n",
        "---\n",
        "\n",
        "## Importância na análise de redes espaciais\n",
        "\n",
        "Na análise de redes, a geocodificação desempenha papel essencial ao transformar endereços e pontos de interesse em coordenadas que podem ser integradas a grafos espaciais. Isso possibilita:\n",
        "\n",
        "- **Redes de transporte público** → posicionar paradas e estações para estudos de acessibilidade e rotas.  \n",
        "- **Redes de energia elétrica** → localizar transformadores e linhas para identificar vulnerabilidades e planejar expansões.  \n",
        "- **Redes de telecomunicações** → converter endereços de clientes em pontos georreferenciados, otimizando a instalação de fibra óptica.  \n",
        "- **Serviços urbanos** → mapear escolas, hospitais e estabelecimentos comerciais para avaliar proximidade em relação à população atendida.  \n",
        "\n",
        "Assim, a geocodificação conecta atributos não espaciais (como dados demográficos e socioeconômicos) a representações espaciais que podem ser analisadas em **SIG** ou ferramentas de redes.\n",
        "\n",
        "---\n",
        "\n",
        "## Componentes do processo\n",
        "\n",
        "O fluxo básico da geocodificação envolve quatro etapas principais:\n",
        "\n",
        "1. **Entrada de dados** – inserção do endereço ou referência.  \n",
        "2. **Parsing** – análise e separação dos componentes (rua, número, bairro, cidade, país).  \n",
        "3. **Consulta** – busca por correspondências na base de dados.  \n",
        "4. **Resultado** – retorno das coordenadas ou indicação de falha, caso não haja correspondência.  \n",
        "\n",
        "---\n",
        "\n",
        "## Tipos de dados aceitos\n",
        "\n",
        "A geocodificação pode trabalhar com diferentes níveis de detalhe:\n",
        "\n",
        "- **Endereços postais completos** → rua, número, bairro, cidade e país (maior precisão).  \n",
        "- **Nomes de locais** → pontos de interesse conhecidos, como *Parque Ibirapuera* ou *Museu do Louvre*.  \n",
        "- **CEP** → códigos postais que delimitam áreas específicas, úteis para análises mais gerais.  \n",
        "- **Referências aproximadas** → descrições vagas como *“próximo à estação central”*, que situam o usuário em uma área de interesse, ainda que sem precisão exata.  \n",
        "\n",
        "Essa flexibilidade permite aplicar a técnica tanto em estudos que exigem precisão centimétrica quanto em análises mais exploratórias.\n",
        "\n",
        "\n"
      ],
      "metadata": {
        "id": "FQdycuOhVyFe"
      }
    },
    {
      "cell_type": "markdown",
      "source": [
        "\n",
        "## 6.1 Ferramentas e APIs para geocodificação\n",
        "\n",
        "Diversas ferramentas e **APIs** podem ser utilizadas no processo de geocodificação, cada uma com pontos fortes e limitações, dependendo da necessidade do usuário.\n",
        "\n",
        "---\n",
        "\n",
        "### O que é uma API?\n",
        "\n",
        "**API** significa **Application Programming Interface** (Interface de Programação de Aplicações).  \n",
        "Trata-se de um conjunto de definições e protocolos que permite que diferentes sistemas ou aplicações se comuniquem de forma padronizada.\n",
        "\n",
        "Em termos simples, uma API funciona como uma **ponte entre dois sistemas**, permitindo a troca de informações ou a execução de ações.  \n",
        "Exemplo: ao usar um aplicativo de mapas que calcula rotas, a API conecta o aplicativo ao serviço de geocodificação para obter as informações necessárias.\n",
        "\n",
        "As APIs são amplamente utilizadas porque permitem:\n",
        "- **Automatizar tarefas**;  \n",
        "- **Integrar serviços diferentes**;  \n",
        "- **Reutilizar funcionalidades existentes**, economizando tempo no desenvolvimento de software.  \n",
        "\n",
        "---\n",
        "\n",
        "### Principais ferramentas e APIs de geocodificação\n",
        "\n",
        "- **Nominatim (OpenStreetMap)**  \n",
        "  Serviço gratuito baseado no banco de dados do **OpenStreetMap (OSM)**.  \n",
        "  É uma ótima opção para projetos acadêmicos ou de código aberto, pois não envolve custos e oferece resultados colaborativos de uma comunidade global de mapeadores.  \n",
        "  Limitações: cobertura ou precisão reduzidas em áreas pouco mapeadas.\n",
        "\n",
        "- **Google Maps API**  \n",
        "  Serviço comercial oferecido pelo Google, conhecido por sua **alta precisão e cobertura global**.  \n",
        "  É amplamente utilizado em aplicações comerciais (ex.: aplicativos de transporte e delivery).  \n",
        "  Requer chave de API, e os custos variam de acordo com o volume de uso.\n",
        "\n",
        "- **OpenCage**  \n",
        "  API que combina múltiplas fontes de dados, incluindo OSM e outras bases abertas.  \n",
        "  Sua principal vantagem é a **versatilidade e eficiência**, permitindo integrar diferentes fontes em uma única consulta.  \n",
        "  É indicada para análises mais complexas e aplicações que exigem redundância de dados.\n",
        "\n",
        "- **Bing Maps, Mapbox e Here Maps**  \n",
        "  Alternativas comerciais ao Google Maps, cada uma com características próprias:  \n",
        "  - **Bing Maps** → integração com o ecossistema Microsoft;  \n",
        "  - **Mapbox** → personalização de mapas e visualizações;  \n",
        "  - **Here Maps** → funcionalidades avançadas de roteamento e logística.  \n",
        "  Todas exigem chave de acesso e operam em modelos de preço semelhantes ao Google Maps.\n",
        "\n",
        "---\n",
        "\n",
        "### Nota importante\n",
        "\n",
        "A escolha da ferramenta deve considerar:\n",
        "- **Objetivo do projeto** (acadêmico, comercial, governamental);  \n",
        "- **Nível de precisão desejado**;  \n",
        "- **Cobertura geográfica necessária**;  \n",
        "- **Custos envolvidos**.  \n",
        "\n",
        "Para atividades didáticas e acadêmicas, o **Nominatim (OSM)** é geralmente a melhor opção. Já aplicações profissionais podem demandar serviços pagos como o Google Maps ou Here Maps.\n",
        "\n"
      ],
      "metadata": {
        "id": "fH2BPwrRWTkJ"
      }
    },
    {
      "cell_type": "markdown",
      "source": [
        "### Quadro comparativo de ferramentas e APIs de geocodificação\n",
        "\n",
        "| **Ferramenta / API** | **Tipo** | **Vantagens** | **Limitações** | **Custos** |\n",
        "|-----------------------|----------|---------------|----------------|------------|\n",
        "| **Nominatim (OSM)**  | Aberta / Gratuita | Sem custos, base colaborativa global, ideal para ensino e pesquisa | Cobertura desigual, menor precisão em áreas pouco mapeadas | Gratuita |\n",
        "| **Google Maps API**  | Comercial | Alta precisão, ampla cobertura, integração com outros serviços Google | Requer chave de API, uso pago acima de limites gratuitos | Pago (com cota gratuita mensal) |\n",
        "| **OpenCage**         | Comercial (usa OSM + outras bases) | Combina várias fontes, resultados mais robustos, fácil integração | Menor cobertura em áreas remotas comparado ao Google | Pago (com planos acessíveis) |\n",
        "| **Bing Maps API**    | Comercial | Integração com produtos Microsoft, boa precisão | Menos popular que Google/OSM, cobertura pode variar | Pago |\n",
        "| **Mapbox**           | Comercial | Mapas personalizáveis, forte em visualização e design | Geocodificação menos robusta que Google ou Here | Pago (com plano gratuito limitado) |\n",
        "| **Here Maps**        | Comercial | Excelente para roteamento, logística e transportes | Complexidade na configuração, uso pago | Pago |\n"
      ],
      "metadata": {
        "id": "cCzOTqCGWdDp"
      }
    },
    {
      "cell_type": "markdown",
      "source": [
        "\n",
        "- Na seção **6.1**, vimos as **principais ferramentas e APIs de geocodificação** disponíveis no mercado, que fornecem os dados (Google, OSM, Here, Mapbox etc.).  \n",
        "- Na seção **6.2**, vamos aprender a usar **bibliotecas Python** que funcionam como pontes entre o nosso código e esses serviços.  \n",
        "Essas bibliotecas facilitam o trabalho, evitando que precisemos construir manualmente as requisições HTTP ou interpretar respostas JSON brutas.\n"
      ],
      "metadata": {
        "id": "7CwuovtiW9Gv"
      }
    },
    {
      "cell_type": "markdown",
      "source": [
        "\n",
        "## 6.2 Bibliotecas Python para Geocodificação\n",
        "\n",
        "Diversas bibliotecas Python foram desenvolvidas especificamente para **geocodificação**, facilitando a conversão de endereços em coordenadas (geocodificação direta) e de coordenadas em endereços (geocodificação reversa).  \n",
        "Essas bibliotecas integram APIs de serviços de mapeamento de forma prática, tornando o acesso a dados geográficos mais simples para desenvolvedores e pesquisadores.\n",
        "\n",
        "---\n",
        "\n",
        "### Vantagens das bibliotecas Python\n",
        "\n",
        "O uso de bibliotecas para acessar APIs de geocodificação oferece benefícios importantes:\n",
        "\n",
        "- **Simplicidade** → abstraem a complexidade de configurar solicitações HTTP, deixando o código mais limpo.  \n",
        "- **Tratamento de erros** → muitas já lidam automaticamente com problemas como parâmetros inválidos ou limites de requisição.  \n",
        "- **Compatibilidade** → cuidam de detalhes técnicos, como autenticação, formatação de URLs e parsing de dados.  \n",
        "- **Produtividade** → permitem escrever menos código para alcançar os mesmos resultados, otimizando tempo e esforço.\n",
        "\n",
        "---\n",
        "\n",
        "### Principais bibliotecas Python\n",
        "\n",
        "- **Geopy**  \n",
        "  Uma das mais populares, reconhecida pela simplicidade e ampla compatibilidade.  \n",
        "  Suporta múltiplos provedores (Nominatim/OSM, Google, Bing, Here etc.).  \n",
        "  Recursos: `geocode()` (endereço → coordenadas) e `reverse()` (coordenadas → endereço).\n",
        "\n",
        "- **Geocoder**  \n",
        "  Biblioteca amigável que serve como *wrapper* para várias APIs (OSM, Google, Bing, OpenCage, TomTom).  \n",
        "  Destaque: interface consistente, independentemente do provedor.\n",
        "\n",
        "- **Google Maps Python Client**  \n",
        "  Biblioteca oficial do Google.  \n",
        "  Permite geocodificação, busca de locais, rotas e outras funcionalidades.  \n",
        "  Exige chave de API e pode gerar custos conforme o volume de uso.\n",
        "\n",
        "- **OpenCage Geocoder**  \n",
        "  Cliente Python para a API OpenCage, que combina dados de múltiplas fontes abertas.  \n",
        "  Oferece informações adicionais como hierarquia de localidades e nível de precisão.\n",
        "\n",
        "- **OSMnx**  \n",
        "  Voltada para análise de redes urbanas com dados do OpenStreetMap.  \n",
        "  Faz geocodificação (via Nominatim), mas de forma limitada e orientada a aplicações específicas (ex.: gerar grafos de ruas a partir de áreas ou endereços).\n",
        "\n",
        "---\n",
        "\n",
        "## 6.2.1 Utilizando bibliotecas Python para Geocodificação\n",
        "\n",
        "A maioria dos serviços que oferecem APIs (como Google Maps ou OpenStreetMap) **requerem uma chave de API** para autenticação. Essa chave é obtida após o registro na plataforma.  \n",
        "\n",
        "Formas comuns de configurar a chave:  \n",
        "- Passando-a como argumento ao inicializar a biblioteca.  \n",
        "- Definindo-a como variável de ambiente ou em um arquivo de configuração.  \n",
        "\n",
        "---\n",
        "\n",
        "### Exemplo prático com Geopy\n",
        "\n",
        "```python\n",
        "from geopy.geocoders import Nominatim\n",
        "\n",
        "# Inicializando o geocodificador\n",
        "geolocator = Nominatim(user_agent=\"meu_app\")\n",
        "\n",
        "# Geocodificação (endereço → coordenadas)\n",
        "location = geolocator.geocode(\"Avenida Paulista, 1578, São Paulo, Brasil\")\n",
        "print(location.latitude, location.longitude)\n",
        "\n",
        "# Geocodificação reversa (coordenadas → endereço)\n",
        "reverse_location = geolocator.reverse((-23.561684, -46.655981))\n",
        "print(reverse_location.address)\n",
        "````\n",
        "\n",
        "---\n",
        "\n",
        "### O que acontece nos bastidores?\n",
        "\n",
        "* As bibliotecas enviam solicitações para a API com os parâmetros corretos.\n",
        "* O resultado, geralmente em **JSON**, é processado automaticamente e convertido em objetos Python.\n",
        "\n",
        "Exemplo com `requests` (sem usar uma biblioteca especializada):\n",
        "\n",
        "```python\n",
        "import requests\n",
        "\n",
        "response = requests.get(\"https://nominatim.openstreetmap.org/search\",\n",
        "                        params={\"q\": \"Avenida Paulista, 1578, São Paulo, Brasil\", \"format\": \"json\"})\n",
        "\n",
        "data = response.json()\n",
        "print(data[0][\"lat\"], data[0][\"lon\"])\n",
        "```\n",
        "\n",
        "Note como o uso de uma biblioteca como **Geopy** simplifica o processo, evitando a manipulação manual do JSON.\n",
        "\n",
        "---\n",
        "\n",
        "### Considerações importantes\n",
        "\n",
        "* **Limites de requisições**\n",
        "  Serviços gratuitos como Nominatim possuem limites de uso. Para grandes volumes, use serviços pagos ou implemente *rate limiting*.\n",
        "\n",
        "* **Precisão**\n",
        "  Varia conforme o provedor. O Google Maps costuma oferecer maior cobertura, enquanto OSM pode ter lacunas em áreas pouco mapeadas.\n",
        "\n",
        "* **Segurança das chaves de API**\n",
        "  Não compartilhe suas chaves publicamente (ex.: em repositórios GitHub). Armazene-as de forma segura em variáveis de ambiente.\n"
      ],
      "metadata": {
        "id": "plePbCb0YQIU"
      }
    },
    {
      "cell_type": "markdown",
      "source": [
        "### Quadro comparativo das principais bibliotecas Python para geocodificação\n",
        "\n",
        "| **Biblioteca** | **Principais provedores suportados** | **Vantagens** | **Limitações** | **Uso típico** |\n",
        "|----------------|---------------------------------------|---------------|----------------|----------------|\n",
        "| **Geopy** | Nominatim (OSM), Google, Bing, Here, OpenCage, entre outros | Simplicidade, suporte a múltiplos provedores, métodos claros (`geocode`, `reverse`) | Precisa configurar provedores manualmente; desempenho depende da API usada | Projetos acadêmicos e aplicações gerais de geocodificação |\n",
        "| **Geocoder** | OSM, Google, Bing, OpenCage, TomTom | Interface unificada entre diferentes APIs, fácil de trocar provedores | Menos flexível em configurações avançadas | Testes rápidos, prototipagem e aplicações que precisam alternar entre APIs |\n",
        "| **Google Maps Python Client** | Google Maps | Suporte oficial, funções além da geocodificação (rotas, lugares etc.), alta precisão | Requer chave de API, custo para grandes volumes | Aplicações comerciais, logística, transporte e delivery |\n",
        "| **OpenCage Geocoder** | OpenCage (usa OSM + outras fontes) | Metadados ricos (hierarquia de localidades, precisão), integração simples | Necessita chave de API, custo dependendo do uso | Pesquisas e projetos que exigem detalhes adicionais nos resultados |\n",
        "| **OSMnx** | OpenStreetMap (via Nominatim) | Integra geocodificação com redes viárias, gera grafos de ruas automaticamente | Geocodificação limitada; orientada para uso em transportes urbanos | Pesquisas urbanas, análise de redes de transporte, SIG aplicado a cidades |\n"
      ],
      "metadata": {
        "id": "GdmcnCFBY3s5"
      }
    },
    {
      "cell_type": "markdown",
      "source": [
        "## 6.3 Geocodificação com o Python\n",
        "\n",
        "---\n",
        "\n",
        "\n"
      ],
      "metadata": {
        "id": "0Zes0AA4utij"
      }
    },
    {
      "cell_type": "markdown",
      "source": [
        "### 6.3.1 Geocodificação com Python: Localização de hospitais do bairro da Liberdade, São Paulo."
      ],
      "metadata": {
        "id": "7dy_9QyI2zv6"
      }
    },
    {
      "cell_type": "markdown",
      "source": [
        "Depois de conhecer as principais APIs e bibliotecas de geocodificação, vamos agora **colocar em prática** os conceitos utilizando **Python**.  \n",
        "O exemplo escolhido é realista e mostra como integrar o processo de geocodificação com dados de redes espaciais.\n",
        "\n",
        "Neste exemplo, exploraremos a geolocalização utilizando a **API Nominatim** e a biblioteca **geopy**. O objetivo é geocodificar um conjunto de hospitais localizados no bairro da **Liberdade, em São Paulo**, a partir de seus endereços, e projetá-los em uma rede viária obtida do OpenStreetMap.\n",
        "\n",
        "O processo envolve os seguintes passos:\n",
        "\n",
        "a. **Geocodificação dos endereços** → por meio da API Nominatim, os endereços fornecidos serão convertidos em coordenadas geográficas (latitude e longitude) utilizando as funcionalidades da biblioteca *geopy*.  \n",
        "\n",
        "b. **Comparação com dados do OpenStreetMap (OSM)** → as coordenadas obtidas serão confrontadas com dados extraídos diretamente do OSM, permitindo avaliar a precisão dos resultados e a abrangência dos dados da rede viária.  \n",
        "\n",
        "c. **Integração com a rede viária** → os pontos geocodificados serão projetados no grafo da rede viária do bairro da Liberdade. Essa projeção permitirá identificar as arestas mais próximas no grafo, criando novos nós que representam os hospitais no contexto da rede.  \n",
        "\n",
        "---\n",
        "\n",
        "Ao final deste exercício, você terá aprendido a:  \n",
        "- Converter endereços textuais em coordenadas usando o Python.  \n",
        "- Validar os resultados comparando-os com dados do OSM.  \n",
        "- Integrar pontos de interesse (hospitais) em uma rede viária real.  \n",
        "\n"
      ],
      "metadata": {
        "id": "rzS0K7cB405J"
      }
    },
    {
      "cell_type": "markdown",
      "source": [
        "### Preparação do ambiente\n",
        "\n",
        "Antes de começar a geocodificação, vamos instalar e importar as bibliotecas necessárias.  \n",
        "\n",
        "- **osmnx** → para acessar dados do OpenStreetMap e trabalhar com redes viárias.  \n",
        "- **geopy** → para realizar geocodificação (endereços ↔ coordenadas).  \n",
        "- **unidecode** → para normalizar textos (remover acentos).  \n",
        "- **pandas / geopandas** → para manipulação de dados tabulares e geoespaciais.  \n",
        "- **matplotlib** → para visualizações gráficas.  \n",
        "- **shapely** → para manipulação de geometrias (pontos, linhas, polígonos).  \n",
        "- **networkx** → para análise de redes espaciais.  \n",
        "- **folium** → para visualização interativa em mapas.  \n"
      ],
      "metadata": {
        "id": "ljMra9yVa71j"
      }
    },
    {
      "cell_type": "code",
      "execution_count": 1,
      "metadata": {
        "id": "fLtNFnKHuBTD",
        "outputId": "20ca7898-4c2c-476e-ce56-9ca0ebb0d945",
        "colab": {
          "base_uri": "https://localhost:8080/"
        }
      },
      "outputs": [
        {
          "output_type": "stream",
          "name": "stdout",
          "text": [
            "Collecting osmnx\n",
            "  Downloading osmnx-2.0.6-py3-none-any.whl.metadata (4.9 kB)\n",
            "Requirement already satisfied: geopy in /usr/local/lib/python3.12/dist-packages (2.4.1)\n",
            "Collecting unidecode\n",
            "  Downloading Unidecode-1.4.0-py3-none-any.whl.metadata (13 kB)\n",
            "Requirement already satisfied: geopandas>=1.0.1 in /usr/local/lib/python3.12/dist-packages (from osmnx) (1.1.1)\n",
            "Requirement already satisfied: networkx>=2.5 in /usr/local/lib/python3.12/dist-packages (from osmnx) (3.5)\n",
            "Requirement already satisfied: numpy>=1.22 in /usr/local/lib/python3.12/dist-packages (from osmnx) (2.0.2)\n",
            "Requirement already satisfied: pandas>=1.4 in /usr/local/lib/python3.12/dist-packages (from osmnx) (2.2.2)\n",
            "Requirement already satisfied: requests>=2.27 in /usr/local/lib/python3.12/dist-packages (from osmnx) (2.32.4)\n",
            "Requirement already satisfied: shapely>=2.0 in /usr/local/lib/python3.12/dist-packages (from osmnx) (2.1.1)\n",
            "Requirement already satisfied: geographiclib<3,>=1.52 in /usr/local/lib/python3.12/dist-packages (from geopy) (2.1)\n",
            "Requirement already satisfied: pyogrio>=0.7.2 in /usr/local/lib/python3.12/dist-packages (from geopandas>=1.0.1->osmnx) (0.11.1)\n",
            "Requirement already satisfied: packaging in /usr/local/lib/python3.12/dist-packages (from geopandas>=1.0.1->osmnx) (25.0)\n",
            "Requirement already satisfied: pyproj>=3.5.0 in /usr/local/lib/python3.12/dist-packages (from geopandas>=1.0.1->osmnx) (3.7.2)\n",
            "Requirement already satisfied: python-dateutil>=2.8.2 in /usr/local/lib/python3.12/dist-packages (from pandas>=1.4->osmnx) (2.9.0.post0)\n",
            "Requirement already satisfied: pytz>=2020.1 in /usr/local/lib/python3.12/dist-packages (from pandas>=1.4->osmnx) (2025.2)\n",
            "Requirement already satisfied: tzdata>=2022.7 in /usr/local/lib/python3.12/dist-packages (from pandas>=1.4->osmnx) (2025.2)\n",
            "Requirement already satisfied: charset_normalizer<4,>=2 in /usr/local/lib/python3.12/dist-packages (from requests>=2.27->osmnx) (3.4.3)\n",
            "Requirement already satisfied: idna<4,>=2.5 in /usr/local/lib/python3.12/dist-packages (from requests>=2.27->osmnx) (3.10)\n",
            "Requirement already satisfied: urllib3<3,>=1.21.1 in /usr/local/lib/python3.12/dist-packages (from requests>=2.27->osmnx) (2.5.0)\n",
            "Requirement already satisfied: certifi>=2017.4.17 in /usr/local/lib/python3.12/dist-packages (from requests>=2.27->osmnx) (2025.8.3)\n",
            "Requirement already satisfied: six>=1.5 in /usr/local/lib/python3.12/dist-packages (from python-dateutil>=2.8.2->pandas>=1.4->osmnx) (1.17.0)\n",
            "Downloading osmnx-2.0.6-py3-none-any.whl (101 kB)\n",
            "\u001b[2K   \u001b[90m━━━━━━━━━━━━━━━━━━━━━━━━━━━━━━━━━━━━━━━━\u001b[0m \u001b[32m101.5/101.5 kB\u001b[0m \u001b[31m3.0 MB/s\u001b[0m eta \u001b[36m0:00:00\u001b[0m\n",
            "\u001b[?25hDownloading Unidecode-1.4.0-py3-none-any.whl (235 kB)\n",
            "\u001b[2K   \u001b[90m━━━━━━━━━━━━━━━━━━━━━━━━━━━━━━━━━━━━━━━━\u001b[0m \u001b[32m235.8/235.8 kB\u001b[0m \u001b[31m4.0 MB/s\u001b[0m eta \u001b[36m0:00:00\u001b[0m\n",
            "\u001b[?25hInstalling collected packages: unidecode, osmnx\n",
            "Successfully installed osmnx-2.0.6 unidecode-1.4.0\n"
          ]
        }
      ],
      "source": [
        "!pip install osmnx geopy unidecode"
      ]
    },
    {
      "cell_type": "code",
      "source": [
        "import osmnx as ox\n",
        "import pandas as pd\n",
        "import geopandas as gpd\n",
        "import matplotlib.pyplot as plt\n",
        "from matplotlib.lines import Line2D\n",
        "from shapely.geometry import Point, LineString\n",
        "from shapely.ops import nearest_points\n",
        "import networkx as nx\n",
        "from geopy.geocoders import Nominatim\n",
        "from geopy.exc import GeocoderTimedOut\n",
        "from geopy.extra.rate_limiter import RateLimiter\n",
        "import re\n",
        "import time\n",
        "import json\n",
        "from unidecode import unidecode\n",
        "import folium\n",
        "import numpy as np\n",
        "from io import StringIO\n"
      ],
      "metadata": {
        "id": "w5wgbddbu07Q"
      },
      "execution_count": 2,
      "outputs": []
    },
    {
      "cell_type": "markdown",
      "source": [
        "**Definição da base de dados**  \n",
        "   Começaremos criando um dicionário com os nomes dos hospitais e seus endereços completos no bairro da **Liberdade (São Paulo)**.  "
      ],
      "metadata": {
        "id": "2OeWgrId48oW"
      }
    },
    {
      "cell_type": "code",
      "source": [
        "hospitais = {\n",
        "    \"Hospital A C Camargo Câncer Center\": \"Rua Professor Antônio Prudente, 211, Liberdade, São Paulo, Brasil\",\n",
        "    \"Hospital Adventista de São Paulo\": \"Rua Rocha Pombo, 49, Liberdade, São Paulo, Brasil\",\n",
        "    \"Hospedaria de Cuidados Palhat\": \"Rua Muniz de Souza, 992, Liberdade, São Paulo, Brasil\",\n",
        "    \"Hospital Leforte Liberdade\": \"Rua Barão de Iguape, 209, Liberdade, São Paulo, Brasil\",\n",
        "    \"Hospital Oswaldo Cruz\": \"Rua Vergueiro, , Liberdade, São Paulo, Brasil\",\n",
        "    \"Hospital do Servidor Público Municipal\": \"Rua Castro Alves, 60, Liberdade, São Paulo, Brasil\"\n",
        "}\n"
      ],
      "metadata": {
        "id": "iJhtYJY9ngr4"
      },
      "execution_count": 3,
      "outputs": []
    },
    {
      "cell_type": "markdown",
      "source": [
        "**Construção do DataFrame**  \n",
        "   Organizaremos esses dados em um *DataFrame* com duas colunas principais:  \n",
        "   - `nome` → identifica o hospital.  \n",
        "   - `endereco_completo` → armazena o endereço que será geocodificado."
      ],
      "metadata": {
        "id": "4i_0L5r27tU3"
      }
    },
    {
      "cell_type": "code",
      "source": [
        "# Criando o DataFrame a partir do dicionário\n",
        "hospitais_df = pd.DataFrame(hospitais.items(), columns=[\"nome\", \"endereco_completo\"])\n"
      ],
      "metadata": {
        "id": "Pcs1WIHsnjLg"
      },
      "execution_count": 4,
      "outputs": []
    },
    {
      "cell_type": "code",
      "source": [
        "hospitais_df.head(10)"
      ],
      "metadata": {
        "id": "GFq0fh8Gn_E-",
        "outputId": "f94b628a-2462-4659-e323-af79df141794",
        "colab": {
          "base_uri": "https://localhost:8080/",
          "height": 237
        }
      },
      "execution_count": 5,
      "outputs": [
        {
          "output_type": "execute_result",
          "data": {
            "text/plain": [
              "                                     nome  \\\n",
              "0      Hospital A C Camargo Câncer Center   \n",
              "1        Hospital Adventista de São Paulo   \n",
              "2           Hospedaria de Cuidados Palhat   \n",
              "3              Hospital Leforte Liberdade   \n",
              "4                   Hospital Oswaldo Cruz   \n",
              "5  Hospital do Servidor Público Municipal   \n",
              "\n",
              "                                   endereco_completo  \n",
              "0  Rua Professor Antônio Prudente, 211, Liberdade...  \n",
              "1  Rua Rocha Pombo, 49, Liberdade, São Paulo, Brasil  \n",
              "2  Rua Muniz de Souza, 992, Liberdade, São Paulo,...  \n",
              "3  Rua Barão de Iguape, 209, Liberdade, São Paulo...  \n",
              "4      Rua Vergueiro, , Liberdade, São Paulo, Brasil  \n",
              "5  Rua Castro Alves, 60, Liberdade, São Paulo, Br...  "
            ],
            "text/html": [
              "\n",
              "  <div id=\"df-254209ff-449a-4b66-baaf-7698cf9e1551\" class=\"colab-df-container\">\n",
              "    <div>\n",
              "<style scoped>\n",
              "    .dataframe tbody tr th:only-of-type {\n",
              "        vertical-align: middle;\n",
              "    }\n",
              "\n",
              "    .dataframe tbody tr th {\n",
              "        vertical-align: top;\n",
              "    }\n",
              "\n",
              "    .dataframe thead th {\n",
              "        text-align: right;\n",
              "    }\n",
              "</style>\n",
              "<table border=\"1\" class=\"dataframe\">\n",
              "  <thead>\n",
              "    <tr style=\"text-align: right;\">\n",
              "      <th></th>\n",
              "      <th>nome</th>\n",
              "      <th>endereco_completo</th>\n",
              "    </tr>\n",
              "  </thead>\n",
              "  <tbody>\n",
              "    <tr>\n",
              "      <th>0</th>\n",
              "      <td>Hospital A C Camargo Câncer Center</td>\n",
              "      <td>Rua Professor Antônio Prudente, 211, Liberdade...</td>\n",
              "    </tr>\n",
              "    <tr>\n",
              "      <th>1</th>\n",
              "      <td>Hospital Adventista de São Paulo</td>\n",
              "      <td>Rua Rocha Pombo, 49, Liberdade, São Paulo, Brasil</td>\n",
              "    </tr>\n",
              "    <tr>\n",
              "      <th>2</th>\n",
              "      <td>Hospedaria de Cuidados Palhat</td>\n",
              "      <td>Rua Muniz de Souza, 992, Liberdade, São Paulo,...</td>\n",
              "    </tr>\n",
              "    <tr>\n",
              "      <th>3</th>\n",
              "      <td>Hospital Leforte Liberdade</td>\n",
              "      <td>Rua Barão de Iguape, 209, Liberdade, São Paulo...</td>\n",
              "    </tr>\n",
              "    <tr>\n",
              "      <th>4</th>\n",
              "      <td>Hospital Oswaldo Cruz</td>\n",
              "      <td>Rua Vergueiro, , Liberdade, São Paulo, Brasil</td>\n",
              "    </tr>\n",
              "    <tr>\n",
              "      <th>5</th>\n",
              "      <td>Hospital do Servidor Público Municipal</td>\n",
              "      <td>Rua Castro Alves, 60, Liberdade, São Paulo, Br...</td>\n",
              "    </tr>\n",
              "  </tbody>\n",
              "</table>\n",
              "</div>\n",
              "    <div class=\"colab-df-buttons\">\n",
              "\n",
              "  <div class=\"colab-df-container\">\n",
              "    <button class=\"colab-df-convert\" onclick=\"convertToInteractive('df-254209ff-449a-4b66-baaf-7698cf9e1551')\"\n",
              "            title=\"Convert this dataframe to an interactive table.\"\n",
              "            style=\"display:none;\">\n",
              "\n",
              "  <svg xmlns=\"http://www.w3.org/2000/svg\" height=\"24px\" viewBox=\"0 -960 960 960\">\n",
              "    <path d=\"M120-120v-720h720v720H120Zm60-500h600v-160H180v160Zm220 220h160v-160H400v160Zm0 220h160v-160H400v160ZM180-400h160v-160H180v160Zm440 0h160v-160H620v160ZM180-180h160v-160H180v160Zm440 0h160v-160H620v160Z\"/>\n",
              "  </svg>\n",
              "    </button>\n",
              "\n",
              "  <style>\n",
              "    .colab-df-container {\n",
              "      display:flex;\n",
              "      gap: 12px;\n",
              "    }\n",
              "\n",
              "    .colab-df-convert {\n",
              "      background-color: #E8F0FE;\n",
              "      border: none;\n",
              "      border-radius: 50%;\n",
              "      cursor: pointer;\n",
              "      display: none;\n",
              "      fill: #1967D2;\n",
              "      height: 32px;\n",
              "      padding: 0 0 0 0;\n",
              "      width: 32px;\n",
              "    }\n",
              "\n",
              "    .colab-df-convert:hover {\n",
              "      background-color: #E2EBFA;\n",
              "      box-shadow: 0px 1px 2px rgba(60, 64, 67, 0.3), 0px 1px 3px 1px rgba(60, 64, 67, 0.15);\n",
              "      fill: #174EA6;\n",
              "    }\n",
              "\n",
              "    .colab-df-buttons div {\n",
              "      margin-bottom: 4px;\n",
              "    }\n",
              "\n",
              "    [theme=dark] .colab-df-convert {\n",
              "      background-color: #3B4455;\n",
              "      fill: #D2E3FC;\n",
              "    }\n",
              "\n",
              "    [theme=dark] .colab-df-convert:hover {\n",
              "      background-color: #434B5C;\n",
              "      box-shadow: 0px 1px 3px 1px rgba(0, 0, 0, 0.15);\n",
              "      filter: drop-shadow(0px 1px 2px rgba(0, 0, 0, 0.3));\n",
              "      fill: #FFFFFF;\n",
              "    }\n",
              "  </style>\n",
              "\n",
              "    <script>\n",
              "      const buttonEl =\n",
              "        document.querySelector('#df-254209ff-449a-4b66-baaf-7698cf9e1551 button.colab-df-convert');\n",
              "      buttonEl.style.display =\n",
              "        google.colab.kernel.accessAllowed ? 'block' : 'none';\n",
              "\n",
              "      async function convertToInteractive(key) {\n",
              "        const element = document.querySelector('#df-254209ff-449a-4b66-baaf-7698cf9e1551');\n",
              "        const dataTable =\n",
              "          await google.colab.kernel.invokeFunction('convertToInteractive',\n",
              "                                                    [key], {});\n",
              "        if (!dataTable) return;\n",
              "\n",
              "        const docLinkHtml = 'Like what you see? Visit the ' +\n",
              "          '<a target=\"_blank\" href=https://colab.research.google.com/notebooks/data_table.ipynb>data table notebook</a>'\n",
              "          + ' to learn more about interactive tables.';\n",
              "        element.innerHTML = '';\n",
              "        dataTable['output_type'] = 'display_data';\n",
              "        await google.colab.output.renderOutput(dataTable, element);\n",
              "        const docLink = document.createElement('div');\n",
              "        docLink.innerHTML = docLinkHtml;\n",
              "        element.appendChild(docLink);\n",
              "      }\n",
              "    </script>\n",
              "  </div>\n",
              "\n",
              "\n",
              "    <div id=\"df-f4d543ce-94a5-4baf-92bc-03e27eb2263a\">\n",
              "      <button class=\"colab-df-quickchart\" onclick=\"quickchart('df-f4d543ce-94a5-4baf-92bc-03e27eb2263a')\"\n",
              "                title=\"Suggest charts\"\n",
              "                style=\"display:none;\">\n",
              "\n",
              "<svg xmlns=\"http://www.w3.org/2000/svg\" height=\"24px\"viewBox=\"0 0 24 24\"\n",
              "     width=\"24px\">\n",
              "    <g>\n",
              "        <path d=\"M19 3H5c-1.1 0-2 .9-2 2v14c0 1.1.9 2 2 2h14c1.1 0 2-.9 2-2V5c0-1.1-.9-2-2-2zM9 17H7v-7h2v7zm4 0h-2V7h2v10zm4 0h-2v-4h2v4z\"/>\n",
              "    </g>\n",
              "</svg>\n",
              "      </button>\n",
              "\n",
              "<style>\n",
              "  .colab-df-quickchart {\n",
              "      --bg-color: #E8F0FE;\n",
              "      --fill-color: #1967D2;\n",
              "      --hover-bg-color: #E2EBFA;\n",
              "      --hover-fill-color: #174EA6;\n",
              "      --disabled-fill-color: #AAA;\n",
              "      --disabled-bg-color: #DDD;\n",
              "  }\n",
              "\n",
              "  [theme=dark] .colab-df-quickchart {\n",
              "      --bg-color: #3B4455;\n",
              "      --fill-color: #D2E3FC;\n",
              "      --hover-bg-color: #434B5C;\n",
              "      --hover-fill-color: #FFFFFF;\n",
              "      --disabled-bg-color: #3B4455;\n",
              "      --disabled-fill-color: #666;\n",
              "  }\n",
              "\n",
              "  .colab-df-quickchart {\n",
              "    background-color: var(--bg-color);\n",
              "    border: none;\n",
              "    border-radius: 50%;\n",
              "    cursor: pointer;\n",
              "    display: none;\n",
              "    fill: var(--fill-color);\n",
              "    height: 32px;\n",
              "    padding: 0;\n",
              "    width: 32px;\n",
              "  }\n",
              "\n",
              "  .colab-df-quickchart:hover {\n",
              "    background-color: var(--hover-bg-color);\n",
              "    box-shadow: 0 1px 2px rgba(60, 64, 67, 0.3), 0 1px 3px 1px rgba(60, 64, 67, 0.15);\n",
              "    fill: var(--button-hover-fill-color);\n",
              "  }\n",
              "\n",
              "  .colab-df-quickchart-complete:disabled,\n",
              "  .colab-df-quickchart-complete:disabled:hover {\n",
              "    background-color: var(--disabled-bg-color);\n",
              "    fill: var(--disabled-fill-color);\n",
              "    box-shadow: none;\n",
              "  }\n",
              "\n",
              "  .colab-df-spinner {\n",
              "    border: 2px solid var(--fill-color);\n",
              "    border-color: transparent;\n",
              "    border-bottom-color: var(--fill-color);\n",
              "    animation:\n",
              "      spin 1s steps(1) infinite;\n",
              "  }\n",
              "\n",
              "  @keyframes spin {\n",
              "    0% {\n",
              "      border-color: transparent;\n",
              "      border-bottom-color: var(--fill-color);\n",
              "      border-left-color: var(--fill-color);\n",
              "    }\n",
              "    20% {\n",
              "      border-color: transparent;\n",
              "      border-left-color: var(--fill-color);\n",
              "      border-top-color: var(--fill-color);\n",
              "    }\n",
              "    30% {\n",
              "      border-color: transparent;\n",
              "      border-left-color: var(--fill-color);\n",
              "      border-top-color: var(--fill-color);\n",
              "      border-right-color: var(--fill-color);\n",
              "    }\n",
              "    40% {\n",
              "      border-color: transparent;\n",
              "      border-right-color: var(--fill-color);\n",
              "      border-top-color: var(--fill-color);\n",
              "    }\n",
              "    60% {\n",
              "      border-color: transparent;\n",
              "      border-right-color: var(--fill-color);\n",
              "    }\n",
              "    80% {\n",
              "      border-color: transparent;\n",
              "      border-right-color: var(--fill-color);\n",
              "      border-bottom-color: var(--fill-color);\n",
              "    }\n",
              "    90% {\n",
              "      border-color: transparent;\n",
              "      border-bottom-color: var(--fill-color);\n",
              "    }\n",
              "  }\n",
              "</style>\n",
              "\n",
              "      <script>\n",
              "        async function quickchart(key) {\n",
              "          const quickchartButtonEl =\n",
              "            document.querySelector('#' + key + ' button');\n",
              "          quickchartButtonEl.disabled = true;  // To prevent multiple clicks.\n",
              "          quickchartButtonEl.classList.add('colab-df-spinner');\n",
              "          try {\n",
              "            const charts = await google.colab.kernel.invokeFunction(\n",
              "                'suggestCharts', [key], {});\n",
              "          } catch (error) {\n",
              "            console.error('Error during call to suggestCharts:', error);\n",
              "          }\n",
              "          quickchartButtonEl.classList.remove('colab-df-spinner');\n",
              "          quickchartButtonEl.classList.add('colab-df-quickchart-complete');\n",
              "        }\n",
              "        (() => {\n",
              "          let quickchartButtonEl =\n",
              "            document.querySelector('#df-f4d543ce-94a5-4baf-92bc-03e27eb2263a button');\n",
              "          quickchartButtonEl.style.display =\n",
              "            google.colab.kernel.accessAllowed ? 'block' : 'none';\n",
              "        })();\n",
              "      </script>\n",
              "    </div>\n",
              "\n",
              "    </div>\n",
              "  </div>\n"
            ],
            "application/vnd.google.colaboratory.intrinsic+json": {
              "type": "dataframe",
              "variable_name": "hospitais_df",
              "summary": "{\n  \"name\": \"hospitais_df\",\n  \"rows\": 6,\n  \"fields\": [\n    {\n      \"column\": \"nome\",\n      \"properties\": {\n        \"dtype\": \"string\",\n        \"num_unique_values\": 6,\n        \"samples\": [\n          \"Hospital A C Camargo C\\u00e2ncer Center\",\n          \"Hospital Adventista de S\\u00e3o Paulo\",\n          \"Hospital do Servidor P\\u00fablico Municipal\"\n        ],\n        \"semantic_type\": \"\",\n        \"description\": \"\"\n      }\n    },\n    {\n      \"column\": \"endereco_completo\",\n      \"properties\": {\n        \"dtype\": \"string\",\n        \"num_unique_values\": 6,\n        \"samples\": [\n          \"Rua Professor Ant\\u00f4nio Prudente, 211, Liberdade, S\\u00e3o Paulo, Brasil\",\n          \"Rua Rocha Pombo, 49, Liberdade, S\\u00e3o Paulo, Brasil\",\n          \"Rua Castro Alves, 60, Liberdade, S\\u00e3o Paulo, Brasil\"\n        ],\n        \"semantic_type\": \"\",\n        \"description\": \"\"\n      }\n    }\n  ]\n}"
            }
          },
          "metadata": {},
          "execution_count": 5
        }
      ]
    },
    {
      "cell_type": "markdown",
      "source": [
        "**Geocodificação com Geopy/Nominatim**  \n",
        "   Utilizaremos a biblioteca **geopy** com o serviço **Nominatim (OpenStreetMap)** para transformar os endereços em coordenadas de latitude e longitude.  \n",
        "   Isso será feito de forma iterativa: o código percorre cada endereço, consulta a API e coleta as coordenadas correspondentes.  "
      ],
      "metadata": {
        "id": "1RgRMirV75vG"
      }
    },
    {
      "cell_type": "code",
      "source": [
        "# Inicializar o geolocalizador do Nominatim\n",
        "geolocator = Nominatim(user_agent=\"hospitais_geocodificacao\", timeout=5)\n",
        "\n",
        "# Criar listas para armazenar as coordenadas\n",
        "latitude = []\n",
        "longitude = []\n",
        "\n",
        "# Obter as coordenadas de cada hospital\n",
        "for endereco in hospitais_df[\"endereco_completo\"]:\n",
        "    if endereco.strip():  # Verificar se o endereço não está vazio\n",
        "        location = geolocator.geocode(endereco)\n",
        "        if location:\n",
        "            latitude.append(location.latitude)\n",
        "            longitude.append(location.longitude)\n",
        "        else:\n",
        "            latitude.append(None)  # Caso o endereço não seja encontrado\n",
        "            longitude.append(None)\n",
        "    else:\n",
        "        latitude.append(None)\n",
        "        longitude.append(None)\n",
        "\n",
        "# Adicionar as coordenadas ao DataFrame\n",
        "hospitais_df[\"latitude\"] = latitude\n",
        "hospitais_df[\"longitude\"] = longitude\n",
        "\n",
        "# Criar um novo DataFrame com os dados finais\n",
        "hospitais_com_coordenadas = hospitais_df[[\"nome\", \"endereco_completo\", \"latitude\", \"longitude\"]]\n",
        "\n",
        "# Exibir o DataFrame resultante\n",
        "print(hospitais_com_coordenadas)\n"
      ],
      "metadata": {
        "id": "WfadALoRwmav",
        "outputId": "58d6dfff-b422-491a-eab8-792b0534cdfe",
        "colab": {
          "base_uri": "https://localhost:8080/"
        }
      },
      "execution_count": 6,
      "outputs": [
        {
          "output_type": "stream",
          "name": "stdout",
          "text": [
            "                                     nome  \\\n",
            "0      Hospital A C Camargo Câncer Center   \n",
            "1        Hospital Adventista de São Paulo   \n",
            "2           Hospedaria de Cuidados Palhat   \n",
            "3              Hospital Leforte Liberdade   \n",
            "4                   Hospital Oswaldo Cruz   \n",
            "5  Hospital do Servidor Público Municipal   \n",
            "\n",
            "                                   endereco_completo   latitude  longitude  \n",
            "0  Rua Professor Antônio Prudente, 211, Liberdade... -23.565117 -46.637641  \n",
            "1  Rua Rocha Pombo, 49, Liberdade, São Paulo, Brasil -23.563493 -46.634160  \n",
            "2  Rua Muniz de Souza, 992, Liberdade, São Paulo,... -23.571287 -46.628457  \n",
            "3  Rua Barão de Iguape, 209, Liberdade, São Paulo... -23.557930 -46.634814  \n",
            "4      Rua Vergueiro, , Liberdade, São Paulo, Brasil -23.562507 -46.638881  \n",
            "5  Rua Castro Alves, 60, Liberdade, São Paulo, Br... -23.567342 -46.639071  \n"
          ]
        }
      ]
    },
    {
      "cell_type": "markdown",
      "source": [
        "**Criação de um GeoDataFrame**  \n",
        "   Após obter as coordenadas, construiremos um **GeoDataFrame** com os pontos.  \n",
        "   Isso facilitará a manipulação e análise espacial, permitindo cruzar os resultados com outros dados geográficos.  "
      ],
      "metadata": {
        "id": "X_RIvHFU7_1d"
      }
    },
    {
      "cell_type": "code",
      "source": [
        "# Converter o DataFrame para GeoDataFrame\n",
        "hospitais_com_coordenadas[\"geometry\"] = [\n",
        "    Point(xy) for xy in zip(hospitais_com_coordenadas[\"longitude\"], hospitais_com_coordenadas[\"latitude\"])\n",
        "]\n",
        "hospitais_gdf = gpd.GeoDataFrame(hospitais_com_coordenadas, geometry=\"geometry\")\n",
        "\n",
        "# Exibir o GeoDataFrame\n",
        "print(hospitais_gdf)\n",
        "\n"
      ],
      "metadata": {
        "id": "fNIQoWKZxgWS",
        "outputId": "6fa8b5bd-e627-47e1-d1cb-b1bdc6c751ea",
        "colab": {
          "base_uri": "https://localhost:8080/"
        }
      },
      "execution_count": 7,
      "outputs": [
        {
          "output_type": "stream",
          "name": "stdout",
          "text": [
            "                                     nome  \\\n",
            "0      Hospital A C Camargo Câncer Center   \n",
            "1        Hospital Adventista de São Paulo   \n",
            "2           Hospedaria de Cuidados Palhat   \n",
            "3              Hospital Leforte Liberdade   \n",
            "4                   Hospital Oswaldo Cruz   \n",
            "5  Hospital do Servidor Público Municipal   \n",
            "\n",
            "                                   endereco_completo   latitude  longitude  \\\n",
            "0  Rua Professor Antônio Prudente, 211, Liberdade... -23.565117 -46.637641   \n",
            "1  Rua Rocha Pombo, 49, Liberdade, São Paulo, Brasil -23.563493 -46.634160   \n",
            "2  Rua Muniz de Souza, 992, Liberdade, São Paulo,... -23.571287 -46.628457   \n",
            "3  Rua Barão de Iguape, 209, Liberdade, São Paulo... -23.557930 -46.634814   \n",
            "4      Rua Vergueiro, , Liberdade, São Paulo, Brasil -23.562507 -46.638881   \n",
            "5  Rua Castro Alves, 60, Liberdade, São Paulo, Br... -23.567342 -46.639071   \n",
            "\n",
            "                      geometry  \n",
            "0  POINT (-46.63764 -23.56512)  \n",
            "1  POINT (-46.63416 -23.56349)  \n",
            "2  POINT (-46.62846 -23.57129)  \n",
            "3  POINT (-46.63481 -23.55793)  \n",
            "4  POINT (-46.63888 -23.56251)  \n",
            "5  POINT (-46.63907 -23.56734)  \n"
          ]
        }
      ]
    },
    {
      "cell_type": "code",
      "source": [
        "# Verificar se o GeoDataFrame tem um CRS definido\n",
        "if hospitais_gdf.crs is None:\n",
        "    # Definir o CRS como WGS84 (EPSG:4326) se os dados já estiverem nesse sistema\n",
        "    hospitais_gdf = hospitais_gdf.set_crs(\"EPSG:4326\")\n"
      ],
      "metadata": {
        "id": "rGar9oldzKSJ"
      },
      "execution_count": 8,
      "outputs": []
    },
    {
      "cell_type": "code",
      "source": [
        "hospitais_gdf.plot()"
      ],
      "metadata": {
        "id": "1vvnQ4gbxmbO",
        "outputId": "654f561e-f6b5-4830-af13-74c6d6c768d9",
        "colab": {
          "base_uri": "https://localhost:8080/",
          "height": 447
        }
      },
      "execution_count": 9,
      "outputs": [
        {
          "output_type": "execute_result",
          "data": {
            "text/plain": [
              "<Axes: >"
            ]
          },
          "metadata": {},
          "execution_count": 9
        },
        {
          "output_type": "display_data",
          "data": {
            "text/plain": [
              "<Figure size 640x480 with 1 Axes>"
            ],
            "image/png": "[encoded data removed]"
          },
          "metadata": {}
        }
      ]
    },
    {
      "cell_type": "markdown",
      "source": [
        "**Comparação com o OpenStreetMap (OSM)**  \n",
        "   Em seguida, utilizaremos o **OSMnx** para obter os hospitais já cadastrados no OSM dentro do bairro da Liberdade.  \n",
        "   Com isso, poderemos comparar os resultados da geocodificação com os dados oficiais do OSM."
      ],
      "metadata": {
        "id": "Wx2BgYbQ8E7B"
      }
    },
    {
      "cell_type": "code",
      "source": [
        "# Definir o local de interesse (bairro, cidade, país)\n",
        "bairro = \"Liberdade, São Paulo, Brasil\""
      ],
      "metadata": {
        "id": "0ppvF56Gv8tE"
      },
      "execution_count": 10,
      "outputs": []
    },
    {
      "cell_type": "code",
      "source": [
        "# Consultar hospitais (amenity=hospital) dentro do bairro\n",
        "tags = {\"amenity\": \"hospital\"}  # Filtro para hospitais\n",
        "hospitais = ox.features_from_place(bairro, tags)\n",
        "\n",
        "# Filtrar apenas elementos do tipo 'way'\n",
        "hospitais_osm = hospitais[hospitais.index.get_level_values(\"element\") == \"way\"]"
      ],
      "metadata": {
        "id": "FEwd6VhkwViN"
      },
      "execution_count": null,
      "outputs": []
    },
    {
      "cell_type": "code",
      "source": [
        "# Exibir o DataFrame resultante\n",
        "print(hospitais_osm)\n"
      ],
      "metadata": {
        "id": "Tytudd46wfka"
      },
      "execution_count": null,
      "outputs": []
    },
    {
      "cell_type": "markdown",
      "source": [
        "**Visualização dos resultados**  \n",
        "   Por fim, criaremos gráficos que mostrem:  \n",
        "   - os pontos geocodificados (a partir dos endereços fornecidos);  \n",
        "   - os hospitais encontrados diretamente no OSM.  \n",
        "   \n",
        "   Essa comparação ajudará a avaliar tanto a **precisão da geocodificação** quanto a **abrangência dos dados disponíveis**.  "
      ],
      "metadata": {
        "id": "U6csCNIn8Qwa"
      }
    },
    {
      "cell_type": "code",
      "source": [
        "# Configurar o plot\n",
        "fig, ax = plt.subplots(figsize=(10, 10))\n",
        "\n",
        "# Plotar os polígonos (hospitais do OSM)\n",
        "hospitais_osm.plot(ax=ax, color=\"lightblue\", edgecolor=\"blue\", alpha=0.5, label=\"Polígonos (OSM)\")\n",
        "\n",
        "# Plotar os pontos (hospitais_com_coordenadas)\n",
        "hospitais_gdf.plot(ax=ax, color=\"red\", markersize=50, label=\"Pontos (Nominatim)\")\n",
        "\n",
        "# Adicionar título e legenda\n",
        "plt.title(\"Hospitais: Polígonos vs Pontos\", fontsize=16)\n",
        "plt.legend()\n",
        "plt.xlabel(\"Longitude\")\n",
        "plt.ylabel(\"Latitude\")\n",
        "\n",
        "# Mostrar o plot\n",
        "plt.show()"
      ],
      "metadata": {
        "id": "TLXHq85uxn43"
      },
      "execution_count": null,
      "outputs": []
    },
    {
      "cell_type": "markdown",
      "source": [
        "### Integração com a Rede Viária\n",
        "\n",
        "Depois de geocodificar os hospitais, o próximo passo é **integrá-los ao grafo da rede viária**.  \n",
        "Isso é feito projetando cada hospital na **aresta mais próxima do grafo** (rua/segmento viário), garantindo que o ponto esteja alinhado com a malha urbana.\n",
        "\n",
        "---\n",
        "\n",
        "#### 1. Projeção dos hospitais nas arestas do grafo\n",
        "\n",
        "- Cada hospital é associado à aresta mais próxima do grafo com base na **distância euclidiana**.  \n",
        "- A função `project_to_edge` executa essa tarefa, usando três etapas principais:\n",
        "  - **nearest_edges** → identifica a aresta mais próxima do hospital.  \n",
        "  - **interpolate** → calcula a posição exata ao longo da linha (aresta).  \n",
        "  - **project** → retorna as coordenadas do ponto projetado na geometria da rua.  \n",
        "\n",
        "No `GeoDataFrame`, aplicamos essa função linha a linha (usando `apply`).  \n",
        "O resultado é armazenado em uma nova coluna chamada **`projected_geometry`**, contendo a posição ajustada de cada hospital.\n",
        "\n",
        "\n"
      ],
      "metadata": {
        "id": "93bZ04SV8SLN"
      }
    },
    {
      "cell_type": "code",
      "source": [
        "# Carregar o grafo da rede viária\n",
        "\n",
        "grafo_rede = ox.graph_from_place(\"Liberdade, São Paulo, Brasil\", network_type=\"drive\")"
      ],
      "metadata": {
        "id": "fYF8q_Ftx9mw"
      },
      "execution_count": null,
      "outputs": []
    },
    {
      "cell_type": "code",
      "source": [
        "\n",
        "# Plotar o grafo\n",
        "fig, ax = ox.plot_graph(grafo_rede, show=False, close=False)\n",
        "\n",
        "# Plotar os hospitais\n",
        "hospitais_gdf.plot(ax=ax, color=\"red\", markersize=50, label=\"Hospitais\")\n",
        "plt.legend()\n",
        "plt.show()\n"
      ],
      "metadata": {
        "id": "peSpP7q80A1I"
      },
      "execution_count": null,
      "outputs": []
    },
    {
      "cell_type": "code",
      "source": [
        "# Projetar o grafo para métricas planas\n",
        "grafo_rede = ox.project_graph(grafo_rede)\n",
        "\n",
        "\n",
        "# Obter o CRS do grafo projetado (GeoDataFrame dos nós)\n",
        "gdf_nodes, gdf_edges = ox.graph_to_gdfs(grafo_rede, nodes=True, edges=True)         # Extrair nós e arestas\n",
        "hospitais_gdf = hospitais_gdf.to_crs(gdf_nodes.crs) # Reprojetar os hospitais para o CRS do grafo\n",
        "\n",
        "# Associar os hospitais aos nós mais próximos no grafo\n",
        "hospitais_gdf[\"nearest_node\"] = hospitais_gdf.apply(\n",
        "    lambda row: ox.distance.nearest_nodes(\n",
        "        grafo_rede, X=row.geometry.x, Y=row.geometry.y\n",
        "    ),\n",
        "    axis=1\n",
        ")\n",
        "\n",
        "# Visualizar o resultado\n",
        "print(hospitais_gdf[[\"nome\", \"endereco_completo\", \"nearest_node\"]])"
      ],
      "metadata": {
        "id": "7rMNqOmnxsjz"
      },
      "execution_count": null,
      "outputs": []
    },
    {
      "cell_type": "markdown",
      "source": [
        "A função project_to_edge realiza o trabalho principal de encontrar a geometria da aresta mais próxima e projetar o ponto (hospital) sobre essa aresta."
      ],
      "metadata": {
        "id": "qUjbawgi_nHu"
      }
    },
    {
      "cell_type": "code",
      "source": [
        "# Projetar os pontos nos segmentos (arestas) do grafo\n",
        "def project_to_edge(row, graph, edges_gdf):\n",
        "    # Encontrar a aresta mais próxima\n",
        "    nearest_edge = ox.distance.nearest_edges(graph, row.geometry.x, row.geometry.y)\n",
        "\n",
        "    # Obter a geometria da aresta mais próxima\n",
        "    edge_geom = edges_gdf.loc[nearest_edge][\"geometry\"]\n",
        "\n",
        "    # Projetar o ponto na linha\n",
        "    projected_point = edge_geom.interpolate(edge_geom.project(row.geometry))\n",
        "    return projected_point\n",
        "\n"
      ],
      "metadata": {
        "id": "twrnTKjcz1vf"
      },
      "execution_count": null,
      "outputs": []
    },
    {
      "cell_type": "markdown",
      "source": [
        "No código acima:\n",
        "\n",
        "nearest_edges: Encontra a aresta do grafo mais próxima do ponto com base na distância euclidiana entre o ponto e a geometria da aresta.\n",
        "interpolate: Determina a posição no segmento da aresta (linha) onde o ponto projetado deve estar.\n",
        "project: Calcula a distância ao longo da aresta onde o ponto deve ser projetado, retornando a projeção mais próxima."
      ],
      "metadata": {
        "id": "ra62IOd9_qZo"
      }
    },
    {
      "cell_type": "markdown",
      "source": [
        "Usamos a função apply do GeoDataFrame para aplicar a projeção a cada hospital. Para cada linha do hospitais_gdf, o ponto é projetado na aresta mais próxima do grafo."
      ],
      "metadata": {
        "id": "36S3Qcq7_vkb"
      }
    },
    {
      "cell_type": "code",
      "source": [
        "# Aplicar a projeção para todos os hospitais\n",
        "hospitais_gdf[\"projected_geometry\"] = hospitais_gdf.apply(\n",
        "    lambda row: project_to_edge(row, grafo_rede, gdf_edges),\n",
        "    axis=1\n",
        ")\n",
        "\n"
      ],
      "metadata": {
        "id": "aw0Q7igP_Qf9"
      },
      "execution_count": null,
      "outputs": []
    },
    {
      "cell_type": "markdown",
      "source": [
        "apply: Itera sobre cada linha do hospitais_gdf.\n",
        "lambda: Passa cada linha como um objeto row para a função project_to_edge.\n",
        "projected_geometry: Armazena os pontos projetados, que são agora parte das geometrias no GeoDataFrame.\n",
        "O resultado é uma nova coluna no hospitais_gdf, chamada projected_geometry, que contém as coordenadas dos hospitais após serem projetados nas arestas.\n",
        "\n"
      ],
      "metadata": {
        "id": "_jXt9AXv_56L"
      }
    },
    {
      "cell_type": "markdown",
      "source": [
        "Exibimos os nomes dos hospitais e suas geometrias projetadas para confirmar os cálculos."
      ],
      "metadata": {
        "id": "7dl17d6mAHMv"
      }
    },
    {
      "cell_type": "code",
      "source": [
        "# Visualizar os hospitais com as geometrias projetadas\n",
        "print(hospitais_gdf[[\"nome\", \"projected_geometry\"]])"
      ],
      "metadata": {
        "id": "KJuIydJCAEe7"
      },
      "execution_count": null,
      "outputs": []
    },
    {
      "cell_type": "markdown",
      "source": [
        "#### 2. Visualização dos resultados\n",
        "\n",
        "Na etapa de visualização, comparamos:  \n",
        "- **Hospitais originais** → pontos vermelhos (endereços iniciais geocodificados).  \n",
        "- **Hospitais projetados** → pontos azuis (localizações ajustadas nas arestas).  \n",
        "- **Rede viária** → linhas cinzas (sistema de ruas do bairro).  \n",
        "\n",
        "Essa comparação ajuda a perceber como a projeção melhora a integração entre os dados dos hospitais e a rede de transporte.\n"
      ],
      "metadata": {
        "id": "c9lifW1oANar"
      }
    },
    {
      "cell_type": "code",
      "source": [
        "# Plotar os resultados\n",
        "fig, ax = plt.subplots(figsize=(10, 10))\n",
        "\n",
        "# Plotar o grafo\n",
        "gdf_edges.plot(ax=ax, color=\"gray\", linewidth=0.5, label=\"Arestas (Grafo)\")\n",
        "\n",
        "# Plotar os hospitais originais\n",
        "hospitais_gdf.plot(ax=ax, color=\"red\", markersize=50, label=\"Hospitais (Originais)\")\n",
        "\n",
        "# Plotar os hospitais projetados\n",
        "hospitais_gdf.set_geometry(\"projected_geometry\").plot(\n",
        "    ax=ax, color=\"blue\", markersize=50, label=\"Hospitais (Projetados)\"\n",
        ")\n",
        "\n",
        "plt.legend()\n",
        "plt.title(\"Hospitais projetados no grafo viário\")\n",
        "plt.show()"
      ],
      "metadata": {
        "id": "Rw9J211G_82o"
      },
      "execution_count": null,
      "outputs": []
    },
    {
      "cell_type": "markdown",
      "source": [
        "#### 3. Inserindo os hospitais como novos nós no grafo\n",
        "\n",
        "Para que os hospitais façam parte da rede viária, transformamos cada projeção em um **novo nó do grafo**:\n",
        "\n",
        "1. **Obter coordenadas projetadas** → extraímos `x` e `y` da `projected_geometry`.  \n",
        "2. **Criar um novo nó** → definimos um identificador único (`new_node_id`) e adicionamos o nó ao grafo com o atributo `hospital=True`.  \n",
        "3. **Conectar às arestas vizinhas** → removemos a aresta original e criamos duas novas conexões:  \n",
        "   - do nó inicial `u` → `new_node_id`  \n",
        "   - de `new_node_id` → nó final `v`  \n",
        "4. **Atualizar o GeoDataFrame** → registramos o identificador do novo nó na coluna `projected_node`.\n"
      ],
      "metadata": {
        "id": "an0UF5YOBYFk"
      }
    },
    {
      "cell_type": "code",
      "source": [
        "# Criar novos nós no grafo com os pontos projetados\n",
        "for i, row in hospitais_gdf.iterrows():\n",
        "    # Coordenadas do ponto projetado\n",
        "    projected_point = row[\"projected_geometry\"]\n",
        "    x, y = projected_point.x, projected_point.y\n",
        "\n",
        "    # Criar um novo ID único para o nó\n",
        "    new_node_id = max(grafo_rede.nodes) + 1\n",
        "\n",
        "    # Adicionar o novo nó ao grafo com um atributo opcional\n",
        "    grafo_rede.add_node(new_node_id, x=x, y=y, hospital=True)  # Adicionado atributo hospital=True\n",
        "\n",
        "    # Obter a aresta mais próxima\n",
        "    nearest_edge = ox.distance.nearest_edges(\n",
        "        grafo_rede, row.geometry.x, row.geometry.y\n",
        "    )\n",
        "    u, v, key = nearest_edge\n",
        "    edge_data = grafo_rede[u][v][key]\n",
        "\n",
        "    # Remover a aresta original e criar novas conectando o novo nó\n",
        "    grafo_rede.remove_edge(u, v, key)\n",
        "    grafo_rede.add_edge(u, new_node_id, **edge_data)\n",
        "    grafo_rede.add_edge(new_node_id, v, **edge_data)\n",
        "\n",
        "    # Atualizar o GeoDataFrame com o ID do nó projetado\n",
        "    hospitais_gdf.at[i, \"projected_node\"] = new_node_id\n"
      ],
      "metadata": {
        "id": "6Qoknhkj23c-"
      },
      "execution_count": null,
      "outputs": []
    },
    {
      "cell_type": "markdown",
      "source": [
        "No código acima:\n",
        "\n",
        "\n",
        "Obter coordenadas projetadas: Extraímos as coordenadas do ponto projetado (campo projected_geometry). x, y representam a longitude e latitude do ponto.\n",
        "\n",
        "Criar um novo nó: Geramos um novo identificador (new_node_id) garantindo que seja único (o maior ID atual + 1). O nó é adicionado ao grafo com suas coordenadas e o atributo hospital=True.\n",
        "\n",
        "Conectar o nó às arestas mais próximas: Usamos nearest_edges para localizar a aresta mais próxima. Removemos a aresta original e adicionamos duas novas arestas conectando o novo nó (u -> new_node_id, new_node_id -> v).\n",
        "\n",
        "Atualizar o GeoDataFrame: O identificador do nó projetado (new_node_id) é armazenado no GeoDataFrame hospitais_gdf na coluna projected_node."
      ],
      "metadata": {
        "id": "9ga5SLfYBbjD"
      }
    },
    {
      "cell_type": "markdown",
      "source": [
        "#### 4. Verificação dos nós de hospitais\n",
        "\n",
        "Podemos verificar todos os nós adicionados como hospitais explorando o grafo:  \n",
        "\n",
        "- `grafo_rede.nodes(data=True)` → retorna todos os nós e seus atributos.  \n",
        "- `data.get(\"hospital\")` → filtra apenas os nós com `hospital=True`.  \n",
        "\n",
        "Dessa forma, conseguimos listar os hospitais incorporados à rede."
      ],
      "metadata": {
        "id": "nRXgaNppBUnk"
      }
    },
    {
      "cell_type": "code",
      "source": [
        "# Listar apenas os nós que possuem o atributo 'hospital=True'\n",
        "hospitais_projetados = [\n",
        "    (node, data) for node, data in grafo_rede.nodes(data=True) if data.get(\"hospital\")\n",
        "]\n",
        "\n",
        "# Exibir os hospitais projetados\n",
        "for node, data in hospitais_projetados:\n",
        "    print(f\"Hospitais Projetados - Nó {node}: {data}\")\n"
      ],
      "metadata": {
        "id": "EeTuLIXD5B4w"
      },
      "execution_count": null,
      "outputs": []
    },
    {
      "cell_type": "markdown",
      "source": [
        "No código acima:\n",
        "\n",
        "grafo_rede.nodes(data=True): Retorna todos os nós do grafo com seus respectivos atributos.\n",
        "\n",
        "data.get(\"hospital\"): Filtra apenas os nós que possuem o atributo hospital=True."
      ],
      "metadata": {
        "id": "xA2XYGJKB6A6"
      }
    },
    {
      "cell_type": "markdown",
      "source": [
        "#### 5. Visualização final\n",
        "\n",
        "Para destacar os hospitais no grafo, personalizamos a plotagem:  \n",
        "- **Nós de hospitais** → destacados em cor e tamanho diferenciados.  \n",
        "- **Rede viária** → permanece em cinza para dar contraste."
      ],
      "metadata": {
        "id": "GQqK7QWYCGVR"
      }
    },
    {
      "cell_type": "code",
      "source": [
        "# Plotar o grafo destacando os hospitais projetados\n",
        "# Configurar cores e tamanhos dos nós\n",
        "node_colors = [\n",
        "    \"red\" if grafo_rede.nodes[node].get(\"hospital\") else \"white\"\n",
        "    for node in grafo_rede.nodes\n",
        "]\n",
        "node_sizes = [\n",
        "    50 if grafo_rede.nodes[node].get(\"hospital\") else 10\n",
        "    for node in grafo_rede.nodes\n",
        "]\n",
        "\n",
        "# Plotar o grafo diretamente com os hospitais destacados\n",
        "fig, ax = ox.plot_graph(\n",
        "    grafo_rede,\n",
        "    figsize=(12, 12),\n",
        "    node_size=node_sizes,\n",
        "    node_color=node_colors,\n",
        "    edge_linewidth=0.5,\n",
        "    edge_color=\"gray\",\n",
        "    show=False,\n",
        "    close=False  # Manter o gráfico aberto para edição\n",
        ")\n",
        "\n",
        "# Mostrar o gráfico\n",
        "plt.show()"
      ],
      "metadata": {
        "id": "QmNGNhtI5fDT"
      },
      "execution_count": null,
      "outputs": []
    },
    {
      "cell_type": "markdown",
      "source": [
        "### Por que projetar hospitais na rede viária?\n",
        "\n",
        "A projeção dos hospitais no grafo viário permite que eles façam parte da **estrutura da rede de transporte**.  \n",
        "Isso abre caminho para análises avançadas, como:  \n",
        "- cálculo de rotas até os hospitais,  \n",
        "- avaliação da acessibilidade da população,  \n",
        "- estudos de centralidade e cobertura espacial.  \n",
        "\n",
        "Essa integração é uma ferramenta poderosa para o **planejamento urbano**, a **gestão da saúde pública** e a **otimização da mobilidade**."
      ],
      "metadata": {
        "id": "EhclQwUjCUkD"
      }
    },
    {
      "cell_type": "markdown",
      "source": [
        "# Exemplo 2: Localização de escolas do bairro Jabaquara (São Paulo)\n",
        "\n",
        "Neste exemplo, aplicaremos o processo de geocodificação e análise espacial utilizando dados das escolas municipais, conveniadas e privadas do bairro Jabaquara, em São Paulo.  \n",
        "\n",
        "O objetivo é identificar a localização geográfica das escolas a partir de seus endereços, visualizá-las em um mapa, integrá-las ao grafo viário local e realizar análises como acessibilidade e cálculo de rotas.  \n",
        "\n",
        "---\n",
        "\n",
        "### Fonte dos Dados\n",
        "\n",
        "Os dados correspondem ao **Cadastro de Escolas Municipais, Conveniadas e Privadas da cidade de São Paulo (2023)**, disponível no portal oficial da Prefeitura:  \n",
        "\n",
        "[Cadastro de Escolas - Prefeitura de São Paulo](https://dados.prefeitura.sp.gov.br/dataset/cadastro-de-escolas-municipais-conveniadas-e-privadas)\n",
        "\n",
        "Para este exemplo, em vez de carregar o arquivo CSV completo, foi criada uma **string em formato CSV diretamente no notebook**, contendo apenas os registros das escolas da Subprefeitura do Jabaquara e com as colunas relevantes já selecionadas:  \n",
        "\n",
        "- Código da escola (`CODESC`)  \n",
        "- Tipo de escola (`TIPOESC`)  \n",
        "- Nome (`NOMES`)  \n",
        "- Endereço (`ENDERECO` e `NUMERO`)  \n",
        "- Bairro e CEP  \n",
        "- Diretoria e Subprefeitura associadas  \n",
        "\n",
        "Isso simplifica o exercício no Google Colab e evita a etapa de upload manual do arquivo.\n",
        "\n",
        "---\n",
        "\n",
        "### Procedimentos Realizados\n",
        "\n",
        "1. **Carregamento e pré-processamento dos dados**  \n",
        "   - Conversão da string CSV em um `DataFrame` do pandas.  \n",
        "   - Inspeção dos dados e verificação das colunas disponíveis.  \n",
        "   - Garantia de que apenas escolas da Subprefeitura do Jabaquara estão incluídas.  \n",
        "\n",
        "2. **Geocodificação**  \n",
        "   - Utilização da biblioteca **Geopy** para converter endereços (ou CEPs) em coordenadas geográficas (latitude e longitude).  \n",
        "\n",
        "3. **Criação do GeoDataFrame**  \n",
        "   - Transformação das coordenadas em objetos do tipo **Point** (Shapely).  \n",
        "   - Organização dos dados em um **GeoDataFrame** com CRS definido como **EPSG:4326 (WGS84)**.  \n",
        "\n",
        "4. **Visualização espacial**  \n",
        "   - Plotagem dos pontos das escolas em um mapa estático com `matplotlib`.  \n",
        "   - Criação de um mapa interativo com **Folium**, sobrepondo os pontos ao polígono do bairro Jabaquara.  \n",
        "\n",
        "5. **Integração ao grafo viário**  \n",
        "   - Utilização do **OSMnx** para obter o grafo da rede viária do bairro.  \n",
        "   - Realização de análises de redes, incluindo:  \n",
        "     - Projeção das escolas nas arestas mais próximas do grafo.  \n",
        "     - Cálculo do caminho mais curto entre escolas selecionadas.  \n",
        "     - Geração de **isócronas** para avaliar acessibilidade em diferentes distâncias (500 m e 1 km).  \n",
        "\n",
        "---\n",
        "\n",
        "### Objetivo do exemplo\n",
        "\n",
        "Este exemplo mostra como um conjunto de dados tabulares pode ser transformado em informações geoespaciais, permitindo análises que integram:  \n",
        "\n",
        "- a localização de serviços públicos (escolas),  \n",
        "- a estrutura urbana (rede viária do OpenStreetMap),  \n",
        "- e métodos de análise espacial e de redes.  \n",
        "\n",
        "Esse tipo de integração é fundamental para estudos relacionados à **mobilidade urbana, acessibilidade e planejamento educacional**.  \n",
        "\n"
      ],
      "metadata": {
        "id": "O2k_so1H6mec"
      }
    },
    {
      "cell_type": "markdown",
      "source": [
        "### Preparação e Geocodificação dos Dados\n",
        "\n",
        "Antes de iniciar a geocodificação, é necessário preparar corretamente a base de dados.  \n",
        "\n",
        "Os dados já foram preparados e armazenados em uma variável csv_string na célula abaixo.\n",
        "Para carregar esses dados no Pandas, utilizamos a classe StringIO, que permite tratar a string como se fosse um arquivo CSV.\n",
        "\n"
      ],
      "metadata": {
        "id": "AhiMg-gvZVDx"
      }
    },
    {
      "cell_type": "code",
      "source": [
        "csv_string = \"\"\"CODESC,TIPOESC,NOMES,DESLOC,CEU,DIRETORIA,SUBPREF,ENDERECO,NUMERO,BAIRRO,CEP\n",
        "19371,CEU EMEI,CAMINHO DO MAR,CAMINHO DO MAR,CAMINHO DO MAR,SANTO AMARO,JABAQUARA,AVENIDA ENGENHEIRO ARMANDO DE ARRUDA PEREIRA,5241,VILA DO ENCONTRO,4325001\n",
        "19373,CEU EMEF,\"JOSE REZENDE, PROF.\",\"JOSE REZENDE, PROF.\",CAMINHO DO MAR,SANTO AMARO,JABAQUARA,AVENIDA ENGENHEIRO ARMANDO DE ARRUDA PEREIRA,5241,VILA DO ENCONTRO,4325001\n",
        "19419,EMEF,\"ANA MARIA ALVES BENETTI, PROFA\",\"ANA MARIA ALVES BENETTI, PROFA\",,SANTO AMARO,JABAQUARA,RUA CRUZ DAS ALMAS,74,VILA CAMPESTRE,4330060\n",
        "19530,EMEI,VILA SANTA CATARINA,VILA SANTA CATARINA,,SANTO AMARO,JABAQUARA,RUA ALBERTO SAMPAIO,515,VILA SANTA CATARINA,4373030\n",
        "92304,EMEI,MACHADO DE ASSIS,MACHADO DE ASSIS,,SANTO AMARO,JABAQUARA,RUA TENENTE AMÉRICO MORETTI,1189,VILA SANTA CATARINA,4372064\n",
        "92312,EMEI,CASIMIRO DE ABREU,CASIMIRO DE ABREU,,SANTO AMARO,JABAQUARA,RUA DAS ROLINHAS,207,VILA DO ENCONTRO,4323070\n",
        "92321,EMEI,\"LEONOR MENDES DE BARROS, DA.\",\"LEONOR MENDES DE BARROS, DA.\",,SANTO AMARO,JABAQUARA,PRACA JOSE LUZ,108,CIDADE VARGAS,4320010\n",
        "92339,EMEI,NEUSA MARIA ROSSI,NEUSA MARIA ROSSI,,SANTO AMARO,JABAQUARA,RUA LUCRECIA MACIEL,40,VILA GUARANI,4314130\n",
        "92347,EMEI,LAUDO FERREIRA DE CAMARGO,LAUDO FERREIRA DE CAMARGO,,SANTO AMARO,JABAQUARA,RUA SARGENTO TOMAS DE MEDEIROS,23,JABAQUARA,4345040\n",
        "92355,EMEI,\"LOURDES HEREDIA MELLO, PROFA.\",\"LOURDES HEREDIA MELLO, PROFA.\",,SANTO AMARO,JABAQUARA,PRACA WHITAKER PENTEADO,264,VILA GUARANI,4307050\n",
        "95222,EMEF,\"ARY PARREIRAS, ALM.\",\"ARY PARREIRAS, ALM.\",,SANTO AMARO,JABAQUARA,RUA VITORIANA,330,VILA BABILÔNIA,4351010\n",
        "95231,EMEF,MARINA VIEIRA DE CARVALHO MESQUITA,MARINA VIEIRA DE CARVALHO MESQUITA,,SANTO AMARO,JABAQUARA,RUA NESTOR DE CASTRO,223,CIDADE DOMITILA,4387270\n",
        "95265,EMEF,ARMANDO ARRUDA PEREIRA,ARMANDO ARRUDA PEREIRA,,SANTO AMARO,JABAQUARA,RUA CORONEL LUIS DE FARIA E SOUSA,12,VILA DO ENCONTRO,4323010\n",
        "95273,EMEF,CACILDA BECKER,CACILDA BECKER,,SANTO AMARO,JABAQUARA,AVENIDA ENGENHEIRO ARMANDO ARRUDA PEREIRA,2013,JABAQUARA,4309011\n",
        "95281,EMEF,\"NELSON PIMENTEL QUEIROZ, PROF.\",\"NELSON PIMENTEL QUEIROZ, PROF.\",,SANTO AMARO,JABAQUARA,AVENIDA LEONARDO DA VINCI,1371,VILA GUARANI,4313001\n",
        "98949,EMEI,CRUZ E SOUSA,CRUZ E SOUSA,,SANTO AMARO,JABAQUARA,RUA HENRIQUE DA COSTA,348,JARDIM ITACOLOMI,4386000\n",
        "200251,CEU,\"CAMINHO DO MAR - DULCE SALLES CUNHA BRAGA, PROFA\",\"CAMINHO DO MAR - DULCE SALLES CUNHA BRAGA, PROFA\",CAMINHO DO MAR,SANTO AMARO,JABAQUARA,AVENIDA ENGENHEIRO ARMANDO DE ARRUDA PEREIRA,5241,VILA DO ENCONTRO,4325001\n",
        "301035,ESC.PART.,TREM AZUL ESCOLA,TREM AZUL ESCOLA,,SANTO AMARO,JABAQUARA,RUA SANTA RITA D OESTE,74,VILA DO ENCONTRO,4343060\n",
        "306081,ESC.PART.,JARDIM DOS SONHOS NUCL. DE RECR. INF.,JARDIM DOS SONHOS NUCL. DE RECR. INF.,,SANTO AMARO,JABAQUARA,RUA DERVAL,109,VILA MASCOTE,4362050\n",
        "306456,CR.P.CONV,IGUALDADE,IGUALDADE,,SANTO AMARO,JABAQUARA,RUA PROFESSOR WALDEMIRO POSTCH,90,CIDADE DOMITILA,4387260\n",
        "306462,CR.P.CONV,TIAOZINHO,TIAOZINHO,,SANTO AMARO,JABAQUARA,RUA JORGE RUBENS NEIVA DE CAMARGO,56,AMERICANOPOLIS,4337090\n",
        "306487,CR.P.CONV,\"AME, CEI\",\"AME, CEI\",,SANTO AMARO,JABAQUARA,RUA GODOFREDO BRAGA,215,VILA FACHINI,4326120\n",
        "306510,CR.P.CONV,SANTA CATARINA,SANTA CATARINA,,SANTO AMARO,JABAQUARA,RUA DOUTOR DJALMA PINHEIRO FRANCO,63,VILA SANTA CATARINA,4368003\n",
        "306631,ESC.PART.,\"URSINHO PIMPAO, ESC\",\"URSINHO PIMPAO, ESC\",,SANTO AMARO,JABAQUARA,AVENIDA LINO DE ALMEIDA PIRES,629,VILA GUARANI,4317180\n",
        "306817,CR.P.CONV,SANTA CATARINA III,SANTA CATARINA III,,SANTO AMARO,JABAQUARA,RUA DOS COMERCIÁRIOS,225,CIDADE VARGAS,4320030\n",
        "307005,ESC.PART.,CENTRO EDUCACIONAL RIBEIRO JUNIOR,CENTRO EDUCACIONAL RIBEIRO JUNIOR,,SANTO AMARO,JABAQUARA,RUA BARRÂNIA,384,JARDIM ORIENTAL,4348140\n",
        "307080,ESC.PART.,PLANETA COLORIDO,PLANETA COLORIDO,,SANTO AMARO,JABAQUARA,RUA DAS PITOMBEIRAS,197,VILA PARQUE JABAQUARA,4321160\n",
        "307225,ESC.PART.,CAMINHO ILUMINADO,CAMINHO ILUMINADO,,SANTO AMARO,JABAQUARA,RUA DOS JATOBÁS,57,VILA PARQUE JABAQUARA,4349010\n",
        "307316,ESC.PART.,BOM SONINHO,BOM SONINHO,,SANTO AMARO,JABAQUARA,RUA TIMBORÉ,176,JARDIM ORIENTAL,4347150\n",
        "307363,CR.P.CONV,\"MARIA HELENA RIBEIRO DE CASTRO, CEI\",\"MARIA HELENA RIBEIRO DE CASTRO, CEI\",,SANTO AMARO,JABAQUARA,RUA PADRE MANUEL GODINHO,14,VILA CLARA,4414100\n",
        "307448,ESC.PART.,ALEGRIA DO SABER,ALEGRIA DO SABER,,SANTO AMARO,JABAQUARA,RUA CHARLES DARWIN,559,VILA SANTA CATARINA,4379060\n",
        "307793,ESC.PART.,DOCE INFANCIA B. E. I.,DOCE INFANCIA B. E. I.,,SANTO AMARO,JABAQUARA,RUA JOSÉ FELICIANO,28,VILA MASCOTE,4362040\n",
        "307829,ESC.PART.,SIGERMAN E. E. I,SIGERMAN E. E. I,,SANTO AMARO,JABAQUARA,PRACA DÁCIO PIRES CORREIA,26,CIDADE VARGAS,4320020\n",
        "307905,CR.P.CONV,CARMEN RODRIGUES,CARMEN RODRIGUES,,SANTO AMARO,JABAQUARA,ESTRADA ANTIGA DO MAR,535,JARDIM SUL SÃO PAULO,4413000\n",
        "307998,ESC.PART.,MULTI KIDS,MULTI KIDS,,SANTO AMARO,JABAQUARA,RUA MADRE EMILIE DE VILLENEUVE,256,VILA SANTA CATARINA,4367090\n",
        "308006,CR.P.CONV,SAGRADO CORACAO DE JESUS,SAGRADO CORACAO DE JESUS,,SANTO AMARO,JABAQUARA,RUA HILDEBRANDO SIQUEIRA,344,VILA FACHINI,4334150\n",
        "308153,CR.P.CONV,CRAVINHO,CRAVINHO,,SANTO AMARO,JABAQUARA,RUA CÉU TROPICAL,248,CONJUNTO RESIDENCIAL JARDIM CANAÃ,4382120\n",
        "308509,ESC.PART.,DADA BABY,DADA BABY,,SANTO AMARO,JABAQUARA,RUA DAS TAMBAÍBAS,55,VILA PARQUE JABAQUARA,4346060\n",
        "308584,CR.P.CONV,ALGODAO DOCE,ALGODAO DOCE,,SANTO AMARO,JABAQUARA,AVENIDA BARRO BRANCO,301,VILA DO ENCONTRO,4324090\n",
        "308611,CR.P.CONV,VOVO MIRA,VOVO MIRA,,SANTO AMARO,JABAQUARA,RUA SANTA,144,VILA MASCOTE,4363070\n",
        "308646,CR.P.CONV,VERA ALVARENGA,VERA ALVARENGA,,SANTO AMARO,JABAQUARA,RUA GENERAL MANUEL VARGAS,76,CIDADE VARGAS,4320000\n",
        "308800,ESC.PART.,\"MIMAR,E.E.I.\",\"MIMAR,E.E.I.\",,SANTO AMARO,JABAQUARA,RUA CONDE MOREIRA LIMA,1041,JARDIM JABAQUARA,4384032\n",
        "308906,CR.P.CONV,TIO BUBE,TIO BUBE,,SANTO AMARO,JABAQUARA,RUA CONSELHEIRO ELIAS DE CARVALHO,274,VILA SANTA CATARINA,4373000\n",
        "308989,CR.P.CONV,JORGINHO,JORGINHO,,SANTO AMARO,JABAQUARA,RUA SEBASTIÃO SISSON,349,AMERICANÓPOLIS,4337140\n",
        "309130,CR.P.CONV,VERA ALVARENGA II,VERA ALVARENGA II,,SANTO AMARO,JABAQUARA,RUA ALBA,1337,VILA PARQUE JABAQUARA,4346000\n",
        "309635,CR.P.CONV,PRISCILLA TELLES SIQUEIRA BALOTTA DE OLIVEIRA UNID XII,PRISCILLA TELLES SIQUEIRA BALOTTA DE OLIVEIRA UNID XII,,SANTO AMARO,JABAQUARA,RUA DOUTOR ALCIDES DE CAMPOS,407,AMERICANÓPOLIS,4336160\n",
        "309668,ESC.PART.,\"EMILIE, C.E.\",\"EMILIE, C.E.\",,SANTO AMARO,JABAQUARA,RUA JOÃO PEDREIRA DUPRAT,195,VILA SANTA CATARINA,4367080\n",
        "400055,CEI DIRET,HELENA IRACY JUNQUEIRA,HELENA IRACY JUNQUEIRA,,SANTO AMARO,JABAQUARA,RUA EUDORA,56,VILA DO ENCONTRO,4324240\n",
        "400218,CEI DIRET,O PEQUENO SEAREIRO,O PEQUENO SEAREIRO,,SANTO AMARO,JABAQUARA,RUA DOUTOR VITOR EUGÊNIO DO SACRAMENTO,328,JARDIM ORIENTAL,4348020\n",
        "400219,CEI DIRET,\"RAUL TABAJARA VIDIGAL LEITAO, VER.\",\"RAUL TABAJARA VIDIGAL LEITAO, VER.\",,SANTO AMARO,JABAQUARA,RUA JOSE ESTEVAO DE MAGALHAES,356,VILA CAMPESTRE,4332050\n",
        "400244,CEI DIRET,ANGELA MARIA FERNANDES,ANGELA MARIA FERNANDES,,SANTO AMARO,JABAQUARA,RUA CABO ALFREDO CLEMENTE,200,JARDIM SUL SAO PAULO,4413070\n",
        "400252,CEI DIRET,DOMINGOS  RUFINO DE SOUZA,DOMINGOS  RUFINO DE SOUZA,,SANTO AMARO,JABAQUARA,RUA NAVARRA,260,VILA SANTA CATARINA,4374020\n",
        "400356,CR.P.CONV,BEM TE VI,BEM TE VI,,SANTO AMARO,JABAQUARA,RUA DAS BICUIBAS,70,JARDIM ORIENTAL,4321150\n",
        "400372,CEI INDIR,MUNIR ABBUD,MUNIR ABBUD,,SANTO AMARO,JABAQUARA,RUA NESTOR DE CASTRO,323,CIDADE DOMITILA,4387270\n",
        "400373,CEI INDIR,MARIA APARECIDA JERONIMO,MARIA APARECIDA JERONIMO,,SANTO AMARO,JABAQUARA,PRACA BARÃO DE JAPURÁ,1,VILA GUARANIZONA SUL,4313160\n",
        "400374,CEI INDIR,JABAQUARA,JABAQUARA,,SANTO AMARO,JABAQUARA,PRACA WHITAKER PENTEADO,290,VILA GUARANI,4307050\n",
        "400472,CR.P.CONV,SANTA CATARINA II,SANTA CATARINA II,,SANTO AMARO,JABAQUARA,RUA DAS ROLINHAS,267,VILA DO ENCONTRO,4323070\n",
        "400684,CEU CEI,CAMINHO DO MAR,CAMINHO DO MAR,CAMINHO DO MAR,SANTO AMARO,JABAQUARA,AVENIDA ENGENHEIRO ARMANDO DE ARRUDA PEREIRA,5241,VILA DO ENCONTRO,4325001\n",
        "400736,CEI INDIR,LYDIA DOS SANTOS CARRANO,LYDIA DOS SANTOS CARRANO,,SANTO AMARO,JABAQUARA,AVENIDA GENERAL DALTRO FILHO,110,VILA PARQUE JABAQUARA,4330040\n",
        "400823,CEI INDIR,PRISCILLA TELLES SIQUEIRA BALOTTA DE OLIVEIRA UNIDADE XI,PRISCILLA TELLES SIQUEIRA BALOTTA DE OLIVEIRA UNIDADE XI,,SANTO AMARO,JABAQUARA,AVENIDA RODRIGUES MONTEMOR,395,CIDADE DOMITILA,4387002\n",
        "400846,CR.P.CONV,VOVO PAULINA,VOVO PAULINA,,SANTO AMARO,JABAQUARA,RUA APACÊ,411,JARDIM ORIENTAL,4347110\n",
        "400847,CEI INDIR,TEREZA ARAGAO,TEREZA ARAGAO,,SANTO AMARO,JABAQUARA,RUA IBOTI,292,VILA BABILÔNIA,4350030\n",
        "400872,CEI INDIR,AME II,AME II,,SANTO AMARO,JABAQUARA,AVENIDA EUCLIDES,341,VILA FACHINI,4326080\n",
        "501255,MOVA,SOCIEDADE DE AMPARO FRATERNO CASA DO CAMINHO UNID I SA,SOCIEDADE DE AMPARO FRATERNO CASA DO CAMINHO UNID I SA,,SANTO AMARO,JABAQUARA,RUA JORGE RUBENS NEIVA DE CAMARGO,114,AMERICANÓPOLIS,4337090\n",
        "501542,MOVA,ENTIDADE DE PROMOCAO E ASS SOCIAL ESPACO ABERTO,ENTIDADE DE PROMOCAO E ASS SOCIAL ESPACO ABERTO,,SANTO AMARO,JABAQUARA,RUA BAQUIRIVU,136,CIDADE ADEMAR,4404030\n",
        "501587,MOVA,ASSOCIACAO CONQUISTANDO UM ESPACO I,ASSOCIACAO CONQUISTANDO UM ESPACO I,,SANTO AMARO,JABAQUARA,RUA FRANKLIN MAGALHÃES,73,VILA SANTA CATARINA,4374000\n",
        "501588,MOVA,ASSOCIACAO CONQUISTANDO UM ESPACO II,ASSOCIACAO CONQUISTANDO UM ESPACO II,,SANTO AMARO,JABAQUARA,RUA MIANOS,122,VILA MIRA,4377080\n",
        "501589,MOVA,ASSOCIACAO CONQUISTANDO UM ESPACO III,ASSOCIACAO CONQUISTANDO UM ESPACO III,,SANTO AMARO,JABAQUARA,RUA MIANOS,122,VILA MIRA,4377080\n",
        "501591,MOVA,ASSOCIACAO CONQUISTANDO UM ESPACO V,ASSOCIACAO CONQUISTANDO UM ESPACO V,,SANTO AMARO,JABAQUARA,AVENIDA GENERAL DALTRO FILHO,220,VILA PARQUE JABAQUARA,4330040\n",
        "700039,CEU AT COM,\"CAMINHO DO MAR - DULCE SALLES CUNHA BRAGA, PROFA\",\"CAMINHO DO MAR - DULCE SALLES CUNHA BRAGA, PROFA\",CAMINHO DO MAR,SANTO AMARO,JABAQUARA,AVENIDA ENGENHEIRO ARMANDO DE ARRUDA PEREIRA,5241,VILA DO ENCONTRO,4325001\n",
        "\"\"\""
      ],
      "metadata": {
        "id": "kRH7rcDUIECf"
      },
      "execution_count": null,
      "outputs": []
    },
    {
      "cell_type": "markdown",
      "source": [
        "Inicialmente vamos transformar a csv_string em um DataFrame do pandas.\n",
        "Em seguida, vamos limpar e padronizar os CEPs para terem sempre 8 dígitos (se faltar um zero à esquerda, nós adicionamos)."
      ],
      "metadata": {
        "id": "myWA3UpfUGIe"
      }
    },
    {
      "cell_type": "code",
      "source": [
        "# Ler a tabela a partir da string CSV\n",
        "df = pd.read_csv(StringIO(csv_string))\n",
        "\n",
        "# Funções auxiliares para limpar e padronizar o CEP\n",
        "def so_digitos(s):\n",
        "    return re.sub(r\"\\D\", \"\", str(s or \"\"))\n",
        "\n",
        "def normaliza_cep(s):\n",
        "    z = so_digitos(s)\n",
        "    return z.zfill(8)  # ex.: 4325001 -> 04325001\n",
        "\n",
        "# Aplicar a padronização\n",
        "df[\"CEP\"] = df[\"CEP\"].map(normaliza_cep)\n",
        "\n",
        "# Olhar as primeiras linhas (opcional)\n",
        "df.head()\n",
        "\n",
        "\n"
      ],
      "metadata": {
        "id": "8TDYg0aDIPtU"
      },
      "execution_count": null,
      "outputs": []
    },
    {
      "cell_type": "markdown",
      "source": [
        "Agora vamos configurar o Nominatim (serviço de geocodificação do OpenStreetMap) e usar o RateLimiter para respeitar os limites de uso (pequena pausa entre as consultas e tentativas de repetição)."
      ],
      "metadata": {
        "id": "KjA2ek18UWhd"
      }
    },
    {
      "cell_type": "code",
      "source": [
        "from geopy.geocoders import Nominatim\n",
        "from geopy.extra.rate_limiter import RateLimiter\n",
        "\n",
        "# Configuração do geocodificador\n",
        "geolocator = Nominatim(user_agent=\"unipampa-geocode-exercise\", timeout=10)\n",
        "\n",
        "# Adiciona pausa entre chamadas e tentativas automáticas\n",
        "geocode = RateLimiter(\n",
        "    geolocator.geocode,\n",
        "    min_delay_seconds=1.2,   # respeite as políticas do Nominatim\n",
        "    max_retries=2,\n",
        "    swallow_exceptions=True\n",
        ")"
      ],
      "metadata": {
        "id": "uGNj-gnIUU8s"
      },
      "execution_count": null,
      "outputs": []
    },
    {
      "cell_type": "markdown",
      "source": [
        "O próximo passo é criar uma função que envia os campos do endereço separados (rua, número, bairro, cidade, UF, país e CEP).\n",
        "Se a primeira tentativa não achar, tentamos sem o bairro; se ainda assim não achar, tentamos apenas pelo CEP (isso devolve o centro do CEP, menos preciso).\n",
        "Também guardamos os resultados em cache para não repetir buscas iguais."
      ],
      "metadata": {
        "id": "2doKW1hxUsjk"
      }
    },
    {
      "cell_type": "code",
      "source": [
        "# Contexto da cidade\n",
        "CIDADE = \"São Paulo\"\n",
        "UF     = \"SP\"\n",
        "PAIS   = \"Brasil\"\n",
        "\n",
        "# Cache simples em memória\n",
        "cache = {}\n",
        "\n",
        "def geocode_structured(endereco, numero, bairro, cep):\n",
        "    # Chave única para o cache (mesma combinação -> não busca de novo)\n",
        "    key = json.dumps({\"e\":endereco,\"n\":str(numero),\"b\":bairro,\"cep\":cep}, ensure_ascii=False)\n",
        "    if key in cache:\n",
        "        return cache[key]\n",
        "\n",
        "    # 1) Consulta completa\n",
        "    query1 = {\n",
        "        \"street\": f\"{(endereco or '').strip()} {(str(numero) or '').strip()}\".strip(),\n",
        "        \"neighbourhood\": (bairro or \"\").strip() or None,\n",
        "        \"city\": CIDADE,\n",
        "        \"state\": UF,\n",
        "        \"country\": PAIS,\n",
        "        \"postalcode\": cep,\n",
        "        \"addressdetails\": 0\n",
        "    }\n",
        "    loc = geocode(query1, country_codes=\"br\", language=\"pt\", exactly_one=True)\n",
        "\n",
        "    # 2) Fallback sem bairro\n",
        "    if not loc:\n",
        "        query2 = {\n",
        "            \"street\": f\"{(endereco or '').strip()} {(str(numero) or '').strip()}\".strip(),\n",
        "            \"city\": CIDADE,\n",
        "            \"state\": UF,\n",
        "            \"country\": PAIS,\n",
        "            \"postalcode\": cep,\n",
        "            \"addressdetails\": 0\n",
        "        }\n",
        "        loc = geocode(query2, country_codes=\"br\", language=\"pt\", exactly_one=True)\n",
        "\n",
        "    # 3) Fallback apenas CEP (retorna o centroide do CEP)\n",
        "    if not loc and cep:\n",
        "        query3 = {\n",
        "            \"postalcode\": cep,\n",
        "            \"city\": CIDADE,\n",
        "            \"state\": UF,\n",
        "            \"country\": PAIS,\n",
        "            \"addressdetails\": 0\n",
        "        }\n",
        "        loc = geocode(query3, country_codes=\"br\", language=\"pt\", exactly_one=True)\n",
        "\n",
        "    # Salvar no cache e retornar\n",
        "    cache[key] = (loc.latitude, loc.longitude) if loc else (None, None)\n",
        "    return cache[key]\n"
      ],
      "metadata": {
        "id": "YXMSy-cHUn4R"
      },
      "execution_count": null,
      "outputs": []
    },
    {
      "cell_type": "markdown",
      "source": [
        "Para economizar consultas, vamos primeiro geocodificar apenas as combinações únicas de endereço/número/bairro/CEP.\n",
        "Depois usamos o cache para preencher todos os registros, criando as colunas lat e lon."
      ],
      "metadata": {
        "id": "KYvtV2FFU4HX"
      }
    },
    {
      "cell_type": "code",
      "source": [
        "# Lista de combinações únicas\n",
        "unique = df[[\"ENDERECO\",\"NUMERO\",\"BAIRRO\",\"CEP\"]].drop_duplicates().to_dict(\"records\")\n",
        "\n",
        "# Geocodificar cada combinação única (com barra de progresso simples)\n",
        "t0 = time.time()\n",
        "for i, r in enumerate(unique, 1):\n",
        "    _ = geocode_structured(r[\"ENDERECO\"], r[\"NUMERO\"], r[\"BAIRRO\"], r[\"CEP\"])\n",
        "    if i % 10 == 0 or i == len(unique):\n",
        "        print(f\"Geocodificados {i}/{len(unique)} (elapsed {time.time()-t0:.1f}s)\")\n",
        "\n",
        "# Mapear de volta para todas as linhas do DataFrame\n",
        "lats, lons = [], []\n",
        "for _, r in df.iterrows():\n",
        "    lat, lon = geocode_structured(r[\"ENDERECO\"], r[\"NUMERO\"], r[\"BAIRRO\"], r[\"CEP\"])\n",
        "    lats.append(lat); lons.append(lon)\n",
        "\n",
        "df[\"lat\"] = lats\n",
        "df[\"lon\"] = lons\n"
      ],
      "metadata": {
        "id": "JMitqU4cU7F-"
      },
      "execution_count": null,
      "outputs": []
    },
    {
      "cell_type": "markdown",
      "source": [
        "Por fim, vamos olhar um resumo: as colunas principais e a contagem de linhas que ganharam coordenadas."
      ],
      "metadata": {
        "id": "zMf_4s3oVB5H"
      }
    },
    {
      "cell_type": "code",
      "source": [
        "# Ver uma amostra com as colunas principais\n",
        "print(df[[\"ENDERECO\",\"NUMERO\",\"BAIRRO\",\"CEP\",\"lat\",\"lon\"]].head(10))\n",
        "\n",
        "# Resumo de sucesso\n",
        "ok = df[\"lat\"].notna().sum()\n",
        "total = len(df)\n",
        "print(f\"\\nCoordenadas obtidas: {ok}/{total} ({100*ok/total:.1f}%).\")\n",
        "print(\"Obs.: quando cai no fallback do CEP, a posição é a do centro do CEP (menos precisa).\")\n"
      ],
      "metadata": {
        "id": "EdMOriZXVD27"
      },
      "execution_count": null,
      "outputs": []
    },
    {
      "cell_type": "markdown",
      "source": [
        "Agora vamos avaliar a qualidade do resultado verificando se existem linhas sem latitude/longitude.\n",
        "O bloco abaixo faz três coisas:\n",
        "\n",
        "Conta quantos valores ausentes (NaN) existem nas colunas lat e lon.\n",
        "\n",
        "Seleciona as escolas sem coordenadas (onde lat é ausente).\n",
        "\n",
        "Mostra uma tabela com os principais campos dessas escolas para você revisar (código, nome, endereço, número, bairro e CEP)."
      ],
      "metadata": {
        "id": "dmQnnTh9Vnx8"
      }
    },
    {
      "cell_type": "code",
      "source": [
        "# Ver quantos valores ausentes há\n",
        "print(df[[\"lat\", \"lon\"]].isna().sum())\n",
        "\n",
        "# Mostrar linhas sem coordenadas\n",
        "faltando = df[df[\"lat\"].isna()]\n",
        "print(f\"\\nEscolas sem coordenadas: {len(faltando)}\")\n",
        "display(faltando[[\"CODESC\",\"NOMES\",\"ENDERECO\",\"NUMERO\",\"BAIRRO\",\"CEP\"]])\n",
        "\n"
      ],
      "metadata": {
        "id": "NBNTd4YaYaR3"
      },
      "execution_count": null,
      "outputs": []
    },
    {
      "cell_type": "markdown",
      "source": [
        "Agora que já temos as colunas lat e lon, vamos transformar cada linha em um ponto geográfico.\n",
        "Usaremos a biblioteca Shapely para criar objetos do tipo Point e, em seguida, organizaremos tudo em um GeoDataFrame do GeoPandas."
      ],
      "metadata": {
        "id": "Zz_vRGE7fCMl"
      }
    },
    {
      "cell_type": "code",
      "source": [
        "# Criar coluna geometry com pontos (lon, lat)\n",
        "df[\"geometry\"] = df.apply(lambda row: Point(row[\"lon\"], row[\"lat\"]) if pd.notnull(row[\"lat\"]) else None, axis=1)\n",
        "\n",
        "# Transformar em GeoDataFrame\n",
        "gdf_escolas_jabaquara = gpd.GeoDataFrame(df, geometry=\"geometry\", crs=\"EPSG:4326\")\n",
        "\n",
        "# Conferir\n",
        "print(gdf_escolas_jabaquara.head())\n"
      ],
      "metadata": {
        "id": "MJCY2LqaZobg"
      },
      "execution_count": null,
      "outputs": []
    },
    {
      "cell_type": "markdown",
      "source": [
        "Em seguida, visualizamos rapidamente os pontos das escolas em um gráfico simples para conferir se as coordenadas/geometrias ficaram corretas.\n",
        "\n"
      ],
      "metadata": {
        "id": "SA1IXBTLid_C"
      }
    },
    {
      "cell_type": "code",
      "source": [
        "# Plotar os pontos\n",
        "fig, ax = plt.subplots(figsize=(10, 10))\n",
        "gdf_escolas_jabaquara.plot(ax=ax, color='blue', markersize=50, label=\"Escolas jabaquara\")\n",
        "\n",
        "# Configurações do mapa\n",
        "plt.title(\"Escolas da Subprefeitura de Jabaquara\")\n",
        "plt.xlabel(\"Longitude\")\n",
        "plt.ylabel(\"Latitude\")\n",
        "plt.legend()\n",
        "plt.grid(True)\n",
        "plt.show()"
      ],
      "metadata": {
        "id": "E_MKdOAFZ8-F"
      },
      "execution_count": null,
      "outputs": []
    },
    {
      "cell_type": "markdown",
      "source": [
        "### Obtenção do polígono do bairro Jabaquara\n",
        "\n",
        "Para realizar análises espaciais, não basta termos apenas os pontos das escolas.\n",
        "É importante também ter o **limite geográfico do bairro Jabaquara**, pois isso nos permite:  \n",
        "\n",
        "- Contextualizar a localização das escolas em relação ao território do bairro.  \n",
        "- Filtrar apenas as escolas que realmente estão dentro dessa área.  \n",
        "- Produzir visualizações mais claras e análises consistentes.  \n",
        "\n",
        "Para isso, utilizamos a função `ox.geocode_to_gdf` da biblioteca **OSMnx**, que permite obter diretamente do **OpenStreetMap** o polígono geográfico correspondente ao bairro Jabaquara.  \n",
        "O resultado é armazenado em um **GeoDataFrame** chamado `gdf_jabaquara`.  \n",
        "\n"
      ],
      "metadata": {
        "id": "RKk5nXvFso7P"
      }
    },
    {
      "cell_type": "code",
      "source": [
        "# Nome do bairro e localidade\n",
        "bairro = \"Jabaquara, São Paulo, Brasil\"\n",
        "\n",
        "# Obter o polígono do bairro Jabaquara\n",
        "gdf_jabaquara = ox.geocode_to_gdf(bairro)\n",
        "\n",
        "# Exibir informações do GeoDataFrame\n",
        "print(gdf_jabaquara)\n",
        "\n",
        "# Plotar o contorno do bairro\n",
        "fig, ax = plt.subplots(figsize=(10, 10))\n",
        "gdf_jabaquara.plot(ax=ax, color=\"lightblue\", edgecolor=\"blue\", alpha=0.5)\n",
        "plt.title(\"Contorno do Bairro Jabaquara\")\n",
        "plt.show()"
      ],
      "metadata": {
        "id": "2ZsM0ArvaKay"
      },
      "execution_count": null,
      "outputs": []
    },
    {
      "cell_type": "markdown",
      "source": [
        "Em seguida, verificamos o **sistema de referência de coordenadas (CRS)** tanto de `gdf_jabaquara` quanto de `gdf_escolas_jabaquara`.  \n",
        "Essa verificação é fundamental para garantir que ambos os conjuntos de dados utilizem o mesmo sistema de coordenadas e possam ser comparados corretamente nas análises espaciais.\n"
      ],
      "metadata": {
        "id": "lmTkGisdtVTv"
      }
    },
    {
      "cell_type": "code",
      "source": [
        "# Consultar o CRS de gdf_escolas_jabaquara\n",
        "print(\"CRS de gdf_escolas_jabaquara:\", gdf_escolas_jabaquara.crs)\n",
        "\n",
        "# Consultar o CRS de gdf_jabaquara\n",
        "print(\"CRS de gdf_jabaquara:\", gdf_jabaquara.crs)\n"
      ],
      "metadata": {
        "id": "oL80v_LvjrHH"
      },
      "execution_count": null,
      "outputs": []
    },
    {
      "cell_type": "markdown",
      "source": [
        "Depois de preparar os dados e filtrar apenas as escolas localizadas dentro do bairro Jabaquara, o próximo passo é **visualizar os resultados**.  \n",
        "A visualização é fundamental para validar se os dados estão corretos e para apoiar a interpretação espacial.\n",
        "\n",
        "**Plotagem estática (GeoPandas/Matplotlib)**  \n",
        "   - Utilizamos um gráfico simples para sobrepor o polígono do bairro Jabaquara e os pontos das escolas.  \n",
        "   - Esse tipo de visualização é útil para uma análise rápida, permitindo verificar se as escolas realmente estão dentro dos limites do bairro.  \n",
        "\n"
      ],
      "metadata": {
        "id": "Beuv9Ry-tZzd"
      }
    },
    {
      "cell_type": "code",
      "source": [
        "# Criar o plot\n",
        "fig, ax = plt.subplots(figsize=(12, 12))\n",
        "\n",
        "# Plotar o polígono da subprefeitura de Jabaquara\n",
        "gdf_jabaquara.plot(ax=ax, color=\"lightblue\", edgecolor=\"black\", alpha=0.5, label=\"Subprefeitura Jabaquara\")\n",
        "\n",
        "# Plotar os pontos das escolas\n",
        "gdf_escolas_jabaquara.plot(ax=ax, color=\"red\", markersize=30, label=\"Escolas Jabaquara\")\n",
        "\n",
        "# Configurar o gráfico\n",
        "plt.legend()\n",
        "plt.title(\"Escolas e Polígono da Subprefeitura de Jabaquara\")\n",
        "plt.xlabel(\"Longitude\")\n",
        "plt.ylabel(\"Latitude\")\n",
        "plt.grid(True)\n",
        "plt.show()\n"
      ],
      "metadata": {
        "id": "-3FOvdL5j_Xf"
      },
      "execution_count": null,
      "outputs": []
    },
    {
      "cell_type": "markdown",
      "source": [
        "Na figura acima, o polígono azul claro representa o limite da subprefeitura do Jabaquara, enquanto os pontos vermelhos indicam as escolas geocodificadas.  \n",
        "Observa-se que a maioria das escolas está corretamente posicionada dentro do polígono, mas ainda havia registros fora dos limites do bairro antes da filtragem.  \n"
      ],
      "metadata": {
        "id": "-4X9tak9sUUb"
      }
    },
    {
      "cell_type": "markdown",
      "source": [
        "\n",
        "Para garantir a consistência da análise, precisamos **eliminar todas as escolas que não estão dentro do polígono da subprefeitura de Jabaquara**.\n",
        "\n",
        "1. Obtemos o polígono do bairro a partir do GeoDataFrame `gdf_jabaquara`.  \n",
        "2. Usamos o método `within` para verificar se cada ponto de escola está contido dentro desse polígono.  \n",
        "3. Criamos um novo GeoDataFrame `gdf_escolas_jabaquara_filtrado` contendo apenas os pontos válidos.  \n",
        "4. Verificamos o número de escolas restantes com `.shape`.  \n",
        "5. Plotamos o resultado para confirmar que apenas as escolas dentro do bairro foram mantidas.\n",
        "\n"
      ],
      "metadata": {
        "id": "WVgrQ9ibtiWa"
      }
    },
    {
      "cell_type": "code",
      "source": [
        "\n",
        "if hasattr(gdf_jabaquara, \"union_all\"):\n",
        "    poligono_jabaquara = gdf_jabaquara.union_all()\n",
        "else:\n",
        "    poligono_jabaquara = gdf_jabaquara.geometry.unary_union  # fallback\n",
        "\n",
        "# Filtrar apenas as escolas dentro do polígono\n",
        "gdf_escolas_jabaquara_filtrado = gdf_escolas_jabaquara[\n",
        "    gdf_escolas_jabaquara.geometry.within(poligono_jabaquara)\n",
        "]\n",
        "\n",
        "print(gdf_escolas_jabaquara_filtrado.shape)\n",
        "\n",
        "fig, ax = plt.subplots(figsize=(12, 12))\n",
        "gdf_jabaquara.plot(ax=ax, color=\"lightblue\", edgecolor=\"black\", alpha=0.5, label=\"Jabaquara\")\n",
        "gdf_escolas_jabaquara_filtrado.plot(ax=ax, color=\"red\", markersize=30, label=\"Escolas filtradas\")\n",
        "plt.legend(); plt.title(\"Escolas dentro do polígono da Subprefeitura de Jabaquara\")\n",
        "plt.xlabel(\"Longitude\"); plt.ylabel(\"Latitude\"); plt.grid(True); plt.show()\n",
        "\n",
        "\n",
        "\n"
      ],
      "metadata": {
        "id": "uMsQIP93jwF2"
      },
      "execution_count": null,
      "outputs": []
    },
    {
      "cell_type": "markdown",
      "source": [
        "Para facilitar a visualização, vamos criar um mapa interativo com a biblioteca Folium."
      ],
      "metadata": {
        "id": "fIumgjqQuAVs"
      }
    },
    {
      "cell_type": "code",
      "source": [
        "if 'poligono_jabaquara' not in locals():\n",
        "    if hasattr(gdf_jabaquara, 'union_all'):\n",
        "        poligono_jabaquara = gdf_jabaquara.union_all()\n",
        "    else:\n",
        "        poligono_jabaquara = gdf_jabaquara.geometry.unary_union\n",
        "\n",
        "if 'gdf_escolas_jabaquara_filtrado' not in locals():\n",
        "    gdf_escolas_jabaquara_filtrado = gdf_escolas_jabaquara[\n",
        "        gdf_escolas_jabaquara.geometry.within(poligono_jabaquara)\n",
        "    ]\n",
        "\n",
        "\n",
        "# Centro do mapa (prioriza escolas filtradas; se vazio, usa o polígono)\n",
        "if len(gdf_escolas_jabaquara_filtrado) > 0:\n",
        "    if hasattr(gdf_escolas_jabaquara_filtrado, 'union_all'):\n",
        "        centro = gdf_escolas_jabaquara_filtrado.union_all().centroid\n",
        "    else:\n",
        "        centro = gdf_escolas_jabaquara_filtrado.geometry.unary_union.centroid\n",
        "else:\n",
        "    centro = poligono_jabaquara.centroid\n",
        "\n",
        "mapa = folium.Map(location=[centro.y, centro.x], zoom_start=14)\n",
        "\n",
        "# Polígono do Jabaquara\n",
        "folium.GeoJson(\n",
        "    gdf_jabaquara.__geo_interface__,\n",
        "    name=\"Bairro Jabaquara\",\n",
        "    style_function=lambda x: {\"fillColor\":\"lightblue\",\"color\":\"blue\",\"weight\":2,\"fillOpacity\":0.3},\n",
        ").add_to(mapa)\n",
        "\n",
        "# Marcadores das escolas\n",
        "for _, row in gdf_escolas_jabaquara_filtrado.iterrows():\n",
        "    if row.geometry and not row.geometry.is_empty:\n",
        "        lat, lon = row.geometry.y, row.geometry.x\n",
        "        popup_txt = f\"{row.get('NOMES','(sem nome)')}<br>{row.get('endereco_completo','')}\"\n",
        "        folium.Marker(\n",
        "            [lat, lon],\n",
        "            popup=popup_txt,\n",
        "            icon=folium.Icon(color=\"red\", icon=\"info-sign\"),\n",
        "        ).add_to(mapa)\n",
        "\n",
        "folium.LayerControl().add_to(mapa)\n",
        "mapa\n",
        "\n",
        "\n"
      ],
      "metadata": {
        "id": "s2ty003fkXRo"
      },
      "execution_count": null,
      "outputs": []
    },
    {
      "cell_type": "markdown",
      "source": [
        "### Integração com a rede viária\n",
        "\n",
        "Até este ponto, trabalhamos com a geocodificação e a filtragem espacial das escolas do bairro Jabaquara.  \n",
        "No entanto, para análises mais avançadas — como cálculo de rotas, acessibilidade ou estudos de conectividade — não basta saber apenas a localização das escolas: é necessário considerar a **rede viária** do bairro.\n",
        "\n",
        "A partir de agora, vamos inserir o grafo da rede viária no nosso exemplo prático.  \n",
        "Esse grafo representa as ruas e suas conexões sob a forma de **nós** (interseções) e **arestas** (trechos de rua).  \n",
        "Com ele, poderemos projetar as escolas sobre a malha de ruas e, assim, realizar análises espaciais que dependem da estrutura real do sistema de transporte urbano.\n"
      ],
      "metadata": {
        "id": "CwhxrqrQwE3w"
      }
    },
    {
      "cell_type": "markdown",
      "source": [
        "**Extração do grafo viário**  \n",
        "   - Utilizamos a função `ox.graph_from_place` para obter o grafo do OpenStreetMap.  \n",
        "   - O parâmetro `network_type=\"drive\"` garante que apenas ruas destinadas a veículos motorizados sejam incluídas.  \n",
        "   - O resultado é armazenado na variável `grafo_jabaquara`."
      ],
      "metadata": {
        "id": "Cs4NOIEuuLxm"
      }
    },
    {
      "cell_type": "code",
      "source": [
        "bairro = \"Jabaquara, São Paulo, Brasil\"\n",
        "\n",
        "# Baixar o grafo do OSM (vias para veículos motorizados)\n",
        "grafo_jabaquara = ox.graph_from_place(bairro, network_type=\"drive\", simplify=True)\n",
        "\n",
        "# Visualização: figura estática do grafo\n",
        "fig, ax = ox.plot_graph(grafo_jabaquara, bgcolor=\"white\",\n",
        "                        node_color=\"red\", edge_color=\"gray\", node_size=10)\n",
        "\n"
      ],
      "metadata": {
        "id": "cCydfzghmbJc"
      },
      "execution_count": null,
      "outputs": []
    },
    {
      "cell_type": "markdown",
      "source": [
        "**Estatísticas básicas**  \n",
        "   - Aplicamos `ox.basic_stats` para calcular estatísticas do grafo, como:  \n",
        "     - número de nós e arestas,  \n",
        "     - extensão total das ruas,  \n",
        "     - média de comprimento das vias."
      ],
      "metadata": {
        "id": "NhpI2_7zwcIY"
      }
    },
    {
      "cell_type": "code",
      "source": [
        "#Estatísticas básicas do grafo\n",
        "stats = ox.basic_stats(grafo_jabaquara)\n",
        "print(\"Resumo do grafo (estatísticas básicas):\")\n",
        "for k, v in stats.items():\n",
        "    print(f\"{k}: {v}\")\n"
      ],
      "metadata": {
        "id": "Iu7jw-KQweaS"
      },
      "execution_count": null,
      "outputs": []
    },
    {
      "cell_type": "markdown",
      "source": [
        "**Conversão do grafo em GeoDataFrames**  \n",
        "   - Usamos `ox.graph_to_gdfs` para extrair **nós** e **arestas** do grafo.  \n",
        "   - Os resultados são armazenados nos GeoDataFrames:  \n",
        "     - `gdf_nodes` (nós),  \n",
        "     - `gdf_edges` (arestas)."
      ],
      "metadata": {
        "id": "UjJdktKBwm9t"
      }
    },
    {
      "cell_type": "code",
      "source": [
        "#Converter o grafo para GeoDataFrames (nós e arestas)\n",
        "gdf_nodes, gdf_edges = ox.graph_to_gdfs(grafo_jabaquara, nodes=True, edges=True)\n",
        "\n",
        "print(\"CRS das arestas:\", gdf_edges.crs)\n",
        "print(\"CRS das escolas (antes):\", gdf_escolas_jabaquara_filtrado.crs)\n",
        "\n",
        "# Garantir que as escolas usem o mesmo CRS das arestas (alinhamento espacial)\n",
        "if gdf_escolas_jabaquara_filtrado.crs != gdf_edges.crs:\n",
        "    gdf_escolas_jabaquara_filtrado = gdf_escolas_jabaquara_filtrado.to_crs(gdf_edges.crs)\n",
        "\n",
        "print(\"CRS das escolas (depois):\", gdf_escolas_jabaquara_filtrado.crs)\n"
      ],
      "metadata": {
        "id": "wcw0h8HhznJ_"
      },
      "execution_count": null,
      "outputs": []
    },
    {
      "cell_type": "markdown",
      "source": [
        "Por fim, plotamos os pontos referentes às escolas juntamente com o grafo da rede viária."
      ],
      "metadata": {
        "id": "ahKR-7gt0OqP"
      }
    },
    {
      "cell_type": "code",
      "source": [
        "#Plot conjunto (grafo + escolas)\n",
        "fig, ax = plt.subplots(figsize=(12, 12))\n",
        "\n",
        "# Arestas (ruas)\n",
        "gdf_edges.plot(ax=ax, color=\"gray\", linewidth=0.6, label=\"Ruas (Grafo)\")\n",
        "\n",
        "# Nós (interseções)\n",
        "gdf_nodes.plot(ax=ax, color=\"dimgray\", markersize=6, label=\"Nós (Grafo)\")\n",
        "\n",
        "# Escolas (apenas as filtradas dentro do Jabaquara)\n",
        "gdf_escolas_jabaquara_filtrado.plot(ax=ax, color=\"red\", markersize=40, label=\"Escolas (filtradas)\")\n",
        "\n",
        "# Títulos e eixos\n",
        "plt.title(\"Rede viária e escolas – Subprefeitura do Jabaquara\")\n",
        "plt.xlabel(\"Longitude\")\n",
        "plt.ylabel(\"Latitude\")\n",
        "plt.legend()\n",
        "plt.grid(True, linewidth=0.3, alpha=0.4)\n",
        "plt.tight_layout()\n",
        "plt.show()\n"
      ],
      "metadata": {
        "id": "UaHIzp9omkfY"
      },
      "execution_count": null,
      "outputs": []
    },
    {
      "cell_type": "markdown",
      "source": [
        "### Próxima etapa: “Encostar” as escolas na rua mais próxima (projeção em arestas)\n",
        "\n",
        "Até aqui, já temos:\n",
        "- as escolas representadas como pontos,  \n",
        "- e a rede viária representada como linhas (arestas do grafo).  \n",
        "\n",
        "Para análises como cálculo de rotas e acessibilidade, precisamos **ligar cada escola à rua mais próxima**.  \n",
        "Isso é feito projetando o ponto da escola **sobre a linha de rua mais próxima** — um processo conhecido como *projeção em arestas* ou *snapping*.\n",
        "\n",
        "---\n",
        "\n",
        "### Criando a função de projeção\n",
        "\n",
        "Para organizar melhor o código, vamos criar uma função chamada `projetar_ponto_na_aresta`.  \n",
        "Essa função recebe:\n",
        "- um **ponto** (localização da escola),  \n",
        "- e o conjunto de **arestas** (as ruas do grafo).  \n",
        "\n",
        "O que ela faz:\n",
        "1. Calcula qual aresta está **mais próxima** do ponto.  \n",
        "2. Usa a função `nearest_points` (Shapely) para projetar a escola exatamente **sobre essa linha**.  \n",
        "3. Retorna o novo ponto já projetado na rua.  \n",
        "\n",
        "Assim, cada escola “encosta” na rua mais próxima, ficando pronta para ser integrada ao grafo viário.\n",
        "\n",
        "---\n",
        "\n",
        "### Por que criar uma função?\n",
        "\n",
        "- **Reutilização:** a mesma lógica pode ser aplicada a várias escolas sem repetir código.  \n",
        "- **Organização:** deixa o fluxo do código mais claro.  \n",
        "- **Facilidade de manutenção:** se precisarmos melhorar o processo no futuro (por exemplo, usando indexação espacial para acelerar), basta alterar a função.  \n",
        "\n",
        "---\n",
        "\n",
        "### Como vamos usar\n",
        "\n",
        "1. **Garantir que os dados sejam válidos:** verificamos se as geometrias de ruas e escolas não têm erros (`.is_valid`).  \n",
        "2. **Iterar pelas escolas:** para cada ponto, chamamos a função `projetar_ponto_na_aresta`.  \n",
        "3. **Armazenar os resultados:** os pontos projetados são guardados em uma lista (`projecoes`).  \n",
        "4. **Criar um novo GeoDataFrame:** transformamos essa lista em `gdf_projecoes`, com o mesmo CRS das escolas originais.  \n",
        "5. **Visualizar os resultados:** no mapa veremos:  \n",
        "   - pontos vermelhos → escolas originais,  \n",
        "   - pontos azuis → escolas projetadas sobre as ruas,  \n",
        "   - linhas cinzas → rede viária.  \n",
        "\n",
        "---\n",
        "\n",
        "Com isso, cada escola passa a estar **conectada à rua mais próxima**, o que abre caminho para análises baseadas na rede, como caminhos mais curtos, tempos de deslocamento e estudos de acessibilidade.\n",
        "\n"
      ],
      "metadata": {
        "id": "CQZIwxi_xQQN"
      }
    },
    {
      "cell_type": "markdown",
      "source": [
        "Inicialmente definimos os sistemas de coordenadas (CRS): um métrico (EPSG:31983) para medir distâncias em metros com precisão e um geográfico (EPSG:4326) para visualização em latitude/longitude em mapas web (Folium/Leaflet).\n",
        "\n",
        "Em seguida, reprojetamos escolas e ruas para o CRS métrico (EPSG:31983), assim todas as distâncias saem em metros com precisão."
      ],
      "metadata": {
        "id": "lVrqY3wmass-"
      }
    },
    {
      "cell_type": "code",
      "source": [
        "CRS_METRICO = \"EPSG:31983\"   # SIRGAS 2000 / UTM 23S (São Paulo)\n",
        "CRS_LATLON  = \"EPSG:4326\"    # WGS84 (lat/lon) para mapas web\n",
        "\n",
        "# Reprojetar escolas/arestas para CRS métrico (distâncias em METROS)\n",
        "gdf_edges_m   = gdf_edges.to_crs(CRS_METRICO)\n",
        "gdf_escolas_m = gdf_escolas_jabaquara_filtrado.to_crs(CRS_METRICO)\n",
        "\n"
      ],
      "metadata": {
        "id": "JvRe0OGcm4qD"
      },
      "execution_count": null,
      "outputs": []
    },
    {
      "cell_type": "markdown",
      "source": [
        "Depois, corrigimos geometrias inválidas (se houver) com buffer(0), para evitar erros em operações espaciais."
      ],
      "metadata": {
        "id": "n9UnSqyFbKON"
      }
    },
    {
      "cell_type": "code",
      "source": [
        "# (Opcional) corrigir/filtrar geometrias inválidas\n",
        "def _fix_invalid(gdf):\n",
        "    if not gdf.is_valid.all():\n",
        "        gdf.loc[~gdf.is_valid, \"geometry\"] = gdf.loc[~gdf.is_valid, \"geometry\"].buffer(0)\n",
        "    return gdf[gdf.is_valid]\n",
        "\n",
        "gdf_edges_m   = _fix_invalid(gdf_edges_m)\n",
        "gdf_escolas_m = _fix_invalid(gdf_escolas_m)"
      ],
      "metadata": {
        "id": "kijYqK6LbKdk"
      },
      "execution_count": null,
      "outputs": []
    },
    {
      "cell_type": "markdown",
      "source": [
        "Criamos um ID estável para cada aresta (edge_id), facilitando referências e junções sem depender do índice."
      ],
      "metadata": {
        "id": "nfgN7517bSq_"
      }
    },
    {
      "cell_type": "code",
      "source": [
        "# Criar uma coluna de ID estável nas arestas para não depender do nome do índice do join\n",
        "gdf_edges_m = gdf_edges_m.reset_index(drop=True).copy()\n",
        "gdf_edges_m[\"edge_id\"] = gdf_edges_m.index"
      ],
      "metadata": {
        "id": "yAmg7eRFbS2p"
      },
      "execution_count": null,
      "outputs": []
    },
    {
      "cell_type": "markdown",
      "source": [
        "Pareamos cada escola com a rua mais próxima usando sjoin_nearest; a coluna dist_to_edge_m já traz a distância em metros (pode limitar com max_distance se quiser)."
      ],
      "metadata": {
        "id": "dqIZ7zDNbZTc"
      }
    },
    {
      "cell_type": "code",
      "source": [
        "# Parear cada escola com a aresta mais próxima (usa índice espacial automaticamente)\n",
        "# distance_col sai em METROS por causa do CRS métrico\n",
        "join = gpd.sjoin_nearest(\n",
        "    gdf_escolas_m[[\"geometry\"]],                # esquerda: escolas\n",
        "    gdf_edges_m[[\"geometry\", \"edge_id\"]],       # direita: arestas + ID estável\n",
        "    how=\"left\",\n",
        "    distance_col=\"dist_to_edge_m\",\n",
        "    # max_distance=200                           # (opcional) limite máximo aceitável em metros\n",
        ")\n",
        "\n",
        "# Manter apenas linhas com pareamento (onde edge_id não é NaN)\n",
        "join_ok = join.dropna(subset=[\"edge_id\"]).copy()"
      ],
      "metadata": {
        "id": "s_I_J5vBbZkj"
      },
      "execution_count": null,
      "outputs": []
    },
    {
      "cell_type": "markdown",
      "source": [
        "Em seguida, projetamos o ponto da escola na rua (com nearest_points), obtendo o ponto exato na via mais próxima."
      ],
      "metadata": {
        "id": "iwcSSbGwbg3B"
      }
    },
    {
      "cell_type": "code",
      "source": [
        "# Projetar cada escola na geometria da aresta pareada\n",
        "projetadas = []\n",
        "for _, row in join_ok.iterrows():\n",
        "    escola_pt  = row[\"geometry\"]\n",
        "    aresta_idx = int(row[\"edge_id\"])                 # usamos nossa coluna estável\n",
        "    aresta_geom = gdf_edges_m.loc[aresta_idx, \"geometry\"]\n",
        "    escola_proj = nearest_points(escola_pt, aresta_geom)[1]\n",
        "    projetadas.append(escola_proj)"
      ],
      "metadata": {
        "id": "buxTewDhbhDO"
      },
      "execution_count": null,
      "outputs": []
    },
    {
      "cell_type": "markdown",
      "source": [
        "Montamos o GeoDataFrame de resultados (gdf_projecoes_m) com a geometria projetada, a distância até a via e o edge_id correspondente."
      ],
      "metadata": {
        "id": "47eAudowbnJK"
      }
    },
    {
      "cell_type": "code",
      "source": [
        "# GeoDataFrame final das projeções (no CRS métrico)\n",
        "gdf_projecoes_m = gdf_escolas_m.loc[join_ok.index].copy()\n",
        "gdf_projecoes_m[\"geometry\"]       = projetadas\n",
        "gdf_projecoes_m[\"dist_to_edge_m\"] = join_ok[\"dist_to_edge_m\"].values\n",
        "gdf_projecoes_m[\"edge_id\"]        = join_ok[\"edge_id\"].astype(\"Int64\").values"
      ],
      "metadata": {
        "id": "nU65mqcfbnVy"
      },
      "execution_count": null,
      "outputs": []
    },
    {
      "cell_type": "markdown",
      "source": [
        "Criamos também a versão em WGS84 (EPSG:4326) (gdf_projecoes) para mapas web (Folium/Leaflet) e compatibilidade com outros dados em lat/lon."
      ],
      "metadata": {
        "id": "_lpGD1GdbrzL"
      }
    },
    {
      "cell_type": "code",
      "source": [
        "# (Opcional) versão em WGS84 para mapas interativos (Folium) ou compatibilidade com outros dados\n",
        "gdf_projecoes = gdf_projecoes_m.to_crs(CRS_LATLON)"
      ],
      "metadata": {
        "id": "aV97Rnugbr-Q"
      },
      "execution_count": null,
      "outputs": []
    },
    {
      "cell_type": "markdown",
      "source": [
        "Fazemos um plot de verificação (no CRS métrico): ruas (cinza), escolas originais (vermelho) e escolas projetadas (azul), para checar se tudo ficou alinhado."
      ],
      "metadata": {
        "id": "1O1HwcEybyTM"
      }
    },
    {
      "cell_type": "code",
      "source": [
        "# Plot de verificação (no CRS métrico)\n",
        "fig, ax = plt.subplots(figsize=(10, 10))\n",
        "gdf_edges_m.plot(ax=ax, color=\"lightgray\", linewidth=0.6, label=\"Ruas (grafo)\")\n",
        "gdf_escolas_m.plot(ax=ax, color=\"red\", markersize=30, label=\"Escolas (originais)\")\n",
        "gdf_projecoes_m.plot(ax=ax, color=\"blue\", markersize=25, label=\"Escolas (projetadas)\")\n",
        "plt.legend()\n",
        "plt.title(\"Projeção das escolas na rua mais próxima (UTM 23S)\")\n",
        "plt.xlabel(\"Leste (m)\")\n",
        "plt.ylabel(\"Norte (m)\")\n",
        "plt.grid(True, linewidth=0.3, alpha=0.4)\n",
        "plt.tight_layout()\n",
        "plt.show()"
      ],
      "metadata": {
        "id": "NjH-K3s0b0oL"
      },
      "execution_count": null,
      "outputs": []
    },
    {
      "cell_type": "markdown",
      "source": [
        "Na figura apresentada, vemos o bairro do Jabaquara representado pelo grafo viário em cinza, sobre o qual foram posicionadas as escolas:\n",
        "\n",
        "Os pontos vermelhos indicam as localizações originais das escolas, obtidas a partir do processo de geocodificação.\n",
        "\n",
        "Os pontos azuis mostram as escolas projetadas na rua mais próxima, ou seja, ajustadas para estarem diretamente conectadas ao sistema viário.\n",
        "\n",
        "A comparação revela que, em vários casos, os pontos vermelhos e azuis praticamente coincidem, indicando que o endereço já estava muito próximo da rua. Em outros, nota-se um pequeno deslocamento, o que significa que a geocodificação posicionou a escola em uma área fora do eixo viário (por exemplo, no interior de uma quadra), e a projeção corrigiu isso, “encostando” a escola na rua mais próxima.\n",
        "\n",
        "Esse resultado é importante porque garante que cada escola esteja agora integrada ao grafo viário, permitindo análises de rede mais realistas, como cálculo de rotas, distâncias percorridas ao longo das ruas e estudos de acessibilidade."
      ],
      "metadata": {
        "id": "sqM96Tw68w6U"
      }
    },
    {
      "cell_type": "markdown",
      "source": [
        "### Conectando as escolas ao grafo viário\n",
        "\n",
        "Até aqui, projetamos cada escola na rua mais próxima (processo de *snapping*).  \n",
        "No entanto, esses pontos **ainda não fazem parte do grafo** do sistema viário (`grafo_jabaquara`).  \n",
        "Para realizar análises de rede — como cálculo de rotas ou geração de isócronas — precisamos que cada escola esteja associada a um **nó do grafo**.\n",
        "\n",
        "Existem duas formas de resolver isso:\n",
        "\n",
        "1. **Criar novos nós no grafo** exatamente na posição de cada escola e dividir as arestas correspondentes.  \n",
        "   - Essa abordagem é mais complexa, pois exige modificar a estrutura do grafo e atualizar atributos (como comprimento das ruas).  \n",
        "\n",
        "2. **Atribuir cada escola ao nó existente mais próximo** na rede.  \n",
        "   - Esse método é mais simples e suficiente para análises de acessibilidade e cálculo de rotas.  \n",
        "   - Garante que cada escola tenha uma referência direta a um nó do grafo, sem alterar a malha viária original.  \n",
        "\n",
        "Neste curso, adotaremos a **opção 2**.  \n",
        "Assim, cada escola projetada será vinculada ao **nó mais próximo já existente no grafo**.  \n",
        "Com isso, podemos calcular rotas, tempos de deslocamento e isócronas de forma prática e consistente, sem a necessidade de modificar a estrutura interna do grafo.\n",
        "\n",
        "Na prática, utilizaremos a função `ox.distance.nearest_nodes` da biblioteca OSMnx para buscar o **nó mais próximo** de cada escola projetada e armazenar o identificador desse nó em uma nova coluna do `GeoDataFrame`.\n"
      ],
      "metadata": {
        "id": "NKyu-6nJnllY"
      }
    },
    {
      "cell_type": "code",
      "source": [
        "#Garantir que os pontos projetados estão em WGS84 (lat/lon), igual ao grafo\n",
        "if gdf_projecoes.crs is None or gdf_projecoes.crs.to_string() != \"EPSG:4326\":\n",
        "    gdf_projecoes_ll = gdf_projecoes.to_crs(\"EPSG:4326\").copy()\n",
        "else:\n",
        "    gdf_projecoes_ll = gdf_projecoes.copy()\n",
        "\n",
        "#Extrair arrays de longitudes (X) e latitudes (Y) dos pontos projetados\n",
        "Xs = gdf_projecoes_ll.geometry.x.values\n",
        "Ys = gdf_projecoes_ll.geometry.y.values\n",
        "\n",
        "#Encontrar, de forma vetorizada, o nó mais próximo para cada ponto\n",
        "nearest_nodes = ox.distance.nearest_nodes(grafo_jabaquara, X=Xs, Y=Ys)\n",
        "\n",
        "#Salvar os IDs dos nós no GeoDataFrame\n",
        "gdf_projecoes_ll[\"nearest_node\"] = nearest_nodes\n",
        "\n",
        "#Manter também em CRS métrico uma cópia com o mesmo campo de nó. Útil para análises em metros.\n",
        "gdf_projecoes_m[\"nearest_node\"] = gdf_projecoes_ll[\"nearest_node\"].values\n",
        "\n",
        "#Verificações rápidas\n",
        "print(\"Total de escolas projetadas:\", len(gdf_projecoes_ll))\n",
        "print(\"Nós distintos atribuídos:\", len(np.unique(gdf_projecoes_ll[\"nearest_node\"])))\n",
        "gdf_projecoes_ll[[\"nearest_node\"]].head()\n",
        "\n"
      ],
      "metadata": {
        "id": "8kWy6FDlx-15"
      },
      "execution_count": null,
      "outputs": []
    },
    {
      "cell_type": "markdown",
      "source": [
        "O que o código faz:\n",
        "\n",
        "Garante que os pontos projetados estejam em WGS84 (o mesmo CRS padrão do grafo OSMnx).\n",
        "\n",
        "Usa a versão vetorizada de ox.distance.nearest_nodes para obter o nó mais próximo de cada escola.\n",
        "\n",
        "Armazena o ID do nó na coluna nearest_node, pronta para ser usada como origem em rotas e isócronas.\n"
      ],
      "metadata": {
        "id": "z1tj1rjbOKrh"
      }
    },
    {
      "cell_type": "markdown",
      "source": [
        "Verificar os Novos Nós Adicionados ao Grafo:\n",
        "\n",
        "Iteramos pelos nós do grafo grafo_jabaquara e verificamos quais possuem o atributo \"escola\".\n",
        "Armazenamos esses nós e seus respectivos dados na lista escolas_projetadas.\n",
        "Em seguida, exibimos o número total de escolas projetadas no grafo e imprimimos os detalhes de cada nó."
      ],
      "metadata": {
        "id": "7uTpkMwUY3NY"
      }
    },
    {
      "cell_type": "markdown",
      "source": [
        "## Conectando escolas ao grafo, calculando rotas e gerando isócronas (Opção A)\n",
        "\n",
        "Para que possamos calcular rotas e áreas de acessibilidade usando a rede viária, primeiro colocamos todos os dados no mesmo “idioma” espacial. Isso significa trabalhar em um sistema de coordenadas métrico, no nosso caso o SIRGAS 2000 / UTM 23S (EPSG:31983). Ao reprojetar o grafo e as escolas para esse sistema, as distâncias passam a ser medidas em metros, o que torna os cálculos de caminho e de alcance muito mais coerentes.\n",
        "\n"
      ],
      "metadata": {
        "id": "yQ9zIJLpIih0"
      }
    },
    {
      "cell_type": "code",
      "source": [
        "# Definir o CRS métrico de São Paulo (UTM 23S)\n",
        "CRS_METRICO = \"EPSG:31983\"  # SIRGAS 2000 / UTM zone 23S\n",
        "\n",
        "\n",
        "\n",
        "# Projetar o GRAFO para o CRS métrico (coordenadas em metros)\n",
        "grafo_jabaquara_m = ox.project_graph(grafo_jabaquara, to_crs=CRS_METRICO)\n",
        "print(\"CRS do grafo (métrico):\", grafo_jabaquara_m.graph[\"crs\"])\n",
        "\n",
        "\n",
        "\n",
        "# Garantir que temos as ESCOLAS em CRS métrico e com a coluna 'nearest_node'\n",
        "#    - Se gdf_projecoes_m não existir, criamos a partir do gdf_projecoes_ll\n",
        "try:\n",
        "    _ = gdf_projecoes_m\n",
        "except NameError:\n",
        "    gdf_projecoes_m = gdf_projecoes_ll.to_crs(CRS_METRICO).copy()\n",
        "# Garante que a coluna nearest_node (criada em WGS84) foi copiada:\n",
        "if \"nearest_node\" not in gdf_projecoes_m.columns:\n",
        "    gdf_projecoes_m[\"nearest_node\"] = gdf_projecoes_ll[\"nearest_node\"].values\n",
        "\n",
        "print(\"CRS das escolas (métrico):\", gdf_projecoes_m.crs)\n",
        "\n",
        "\n",
        "\n",
        "# Obter nós e arestas do grafo como GeoDataFrames (úteis para plots e isócronas)\n",
        "gdf_nodes_m, gdf_edges_m = ox.graph_to_gdfs(grafo_jabaquara_m, nodes=True, edges=True)\n",
        "\n",
        "\n",
        "\n",
        "# Padronizar nomes das escolas em uma coluna 'nome_norm'\n",
        "#    -> ajuste 'col_nome' se seu CSV usa outro nome para a coluna de nomes\n",
        "col_nome = \"NOMES\"\n",
        "if col_nome not in gdf_projecoes_m.columns:\n",
        "    raise ValueError(f\"A coluna '{col_nome}' não foi encontrada. Colunas disponíveis: {list(gdf_projecoes_m.columns)}\")\n",
        "\n",
        "if \"nome_norm\" not in gdf_projecoes_m.columns:\n",
        "    gdf_projecoes_m[\"nome_norm\"] = (\n",
        "        gdf_projecoes_m[col_nome]\n",
        "        .astype(str)\n",
        "        .str.strip()\n",
        "        .str.lower()\n",
        "    )\n",
        "\n",
        "print(\"Pronto: grafo e escolas em METROS, e 'nome_norm' criado.\")"
      ],
      "metadata": {
        "id": "O6sMdSIjJQwL"
      },
      "execution_count": null,
      "outputs": []
    },
    {
      "cell_type": "markdown",
      "source": [
        "Em seguida, cada escola projetada sobre as ruas é associada ao nó existente mais próximo do grafo. Essa associação é essencial porque os algoritmos de rede (como cálculo de rotas e isócronas) operam sobre nós e arestas, não sobre pontos soltos. A função do OSMnx que utilizamos identifica, para cada escola, o identificador do nó mais próximo e grava essa informação no nosso conjunto de dados. A partir daí, cada escola “tem um endereço” dentro do grafo.\n",
        "\n",
        "\n"
      ],
      "metadata": {
        "id": "Aa_XskzRJRRa"
      }
    },
    {
      "cell_type": "markdown",
      "source": [
        "Para facilitar a seleção de escolas específicas, padronizamos o campo de nomes (retirando espaços extras e convertendo para minúsculas). Com isso, fica simples escolher uma escola de origem e outra de destino apenas pelo nome. Dos registros escolhidos, aproveitamos os nós mais próximos já associados e verificamos se existe um caminho entre eles dentro do grafo. Quando há conectividade, calculamos a rota mínima utilizando o comprimento das vias como custo; o resultado é um trajeto que segue as ruas, em vez de uma linha reta, e cuja extensão está expressa em metros.\n"
      ],
      "metadata": {
        "id": "LvdVreFkJTuk"
      }
    },
    {
      "cell_type": "code",
      "source": [
        "# Definir aqui os nomes (em minúsculas, sem acentos se você tiver normalizado antes)\n",
        "escola_origem_nome  = \"angela maria fernandes\"\n",
        "escola_destino_nome = \"maria aparecida jeronimo\"\n",
        "\n",
        "orig = gdf_projecoes_m[gdf_projecoes_m[\"nome_norm\"] == escola_origem_nome]\n",
        "dest = gdf_projecoes_m[gdf_projecoes_m[\"nome_norm\"] == escola_destino_nome]\n",
        "\n",
        "if orig.empty or dest.empty:\n",
        "    raise ValueError(\"Não encontrei a escola de origem ou destino. Revise os nomes em 'nome_norm'.\")\n",
        "\n",
        "no_origem  = int(orig[\"nearest_node\"].iloc[0])\n",
        "no_destino = int(dest[\"nearest_node\"].iloc[0])\n",
        "\n",
        "\n",
        "\n",
        "# Verificar conectividade na rede e calcular o caminho mais curto (peso = comprimento de via em metros)\n",
        "if not nx.has_path(grafo_jabaquara_m, no_origem, no_destino):\n",
        "    raise ValueError(f\"Não há caminho na rede entre os nós {no_origem} e {no_destino}.\")\n",
        "\n",
        "path_nodes = nx.shortest_path(\n",
        "    grafo_jabaquara_m, source=no_origem, target=no_destino, weight=\"length\"\n",
        ")\n",
        "\n",
        "\n",
        "\n",
        "# Transformar a sequência de nós da rota em uma LineString (para plot)\n",
        "coords_m = [(grafo_jabaquara_m.nodes[n][\"x\"], grafo_jabaquara_m.nodes[n][\"y\"]) for n in path_nodes]\n",
        "gdf_caminho_m = gpd.GeoDataFrame(geometry=[LineString(coords_m)], crs=CRS_METRICO)\n",
        "\n",
        "\n",
        "\n",
        "# Plot: ruas (cinza), escolas projetadas (vermelho) e rota (azul)\n",
        "fig, ax = plt.subplots(figsize=(12, 12))\n",
        "gdf_edges_m.plot(ax=ax, color=\"#999999\", linewidth=0.6, label=\"Ruas (grafo)\")\n",
        "gdf_projecoes_m.plot(ax=ax, color=\"red\", markersize=40, label=\"Escolas (projetadas)\")\n",
        "gdf_caminho_m.plot(ax=ax, color=\"blue\", linewidth=2, label=\"Caminho mais curto\")\n",
        "\n",
        "plt.legend()\n",
        "plt.title(\"Caminho mais curto entre escolas (UTM 23S)\")\n",
        "plt.xlabel(\"Leste (m)\")\n",
        "plt.ylabel(\"Norte (m)\")\n",
        "plt.grid(True, linewidth=0.3, alpha=0.4)\n",
        "plt.tight_layout()\n",
        "plt.show()\n"
      ],
      "metadata": {
        "id": "KHcokhZvJTep"
      },
      "execution_count": null,
      "outputs": []
    },
    {
      "cell_type": "markdown",
      "source": [
        "Para analisar acessibilidade, escolhemos uma escola que servirá como ponto central e definimos alguns raios de distância em metros. Em vez de desenhar círculos, o que não representaria o deslocamento real, construímos subgráficos contendo as ruas alcançáveis até cada raio ao longo da rede. Esses subgráficos são convertidos em faixas (buffers) sobre as arestas, formando manchas de alcance que respeitam a malha viária. O resultado são polígonos coloridos que mostram, por exemplo, até onde se chega pela rede em 500 m, 1.000 m, 1.500 m e 2.000 m a partir daquela escola.\n"
      ],
      "metadata": {
        "id": "ZoatqFqpJX_K"
      }
    },
    {
      "cell_type": "code",
      "source": [
        "# Escolher a escola central e os raios (em metros)\n",
        "escola_central_nome = \"associacao conquistando um espaco iii\"\n",
        "raios_m = [500, 1000, 1500, 2000]\n",
        "\n",
        "centro = gdf_projecoes_m[gdf_projecoes_m[\"nome_norm\"] == escola_central_nome]\n",
        "if centro.empty:\n",
        "    raise ValueError(f\"Escola '{escola_central_nome}' não encontrada em 'nome_norm'.\")\n",
        "\n",
        "nodo_central = int(centro[\"nearest_node\"].iloc[0])\n",
        "\n",
        "\n",
        "\n",
        "# Construir subgrafo por raio (usando 'length' em metros) e gerar polígonos por buffer das arestas\n",
        "gdfs_iso = []\n",
        "for r in raios_m:\n",
        "    sub = nx.ego_graph(grafo_jabaquara_m, nodo_central, radius=r, distance=\"length\")\n",
        "    sub_edges = ox.graph_to_gdfs(sub, nodes=False, edges=True)  # arestas alcançáveis\n",
        "    iso_poly = sub_edges.geometry.buffer(50).union_all()        # buffer VISUAL (50 m)\n",
        "    gdfs_iso.append({\"geometry\": iso_poly, \"raio_m\": r})\n",
        "\n",
        "gdf_isocronas_m = gpd.GeoDataFrame(gdfs_iso, crs=CRS_METRICO)\n",
        "\n",
        "\n",
        "\n",
        "# Plot das isócronas sobre o grafo\n",
        "fig, ax = plt.subplots(figsize=(12, 12))\n",
        "gdf_edges_m.plot(ax=ax, color=\"#bbbbbb\", linewidth=0.6)\n",
        "\n",
        "# Cores para os diferentes raios (maior raio ao fundo)\n",
        "cores = ox.plot.get_colors(n=len(raios_m), cmap=\"plasma\", start=0)\n",
        "for i, r in enumerate(sorted(raios_m, reverse=True)):\n",
        "    gdf_isocronas_m[gdf_isocronas_m[\"raio_m\"] == r].plot(\n",
        "        ax=ax, color=cores[i], alpha=0.45\n",
        "    )\n",
        "\n",
        "# Marcar o ponto central\n",
        "cx, cy = grafo_jabaquara_m.nodes[nodo_central][\"x\"], grafo_jabaquara_m.nodes[nodo_central][\"y\"]\n",
        "ax.scatter(cx, cy, c=\"red\", s=90, zorder=10, label=\"Escola (nó mais próximo)\")\n",
        "\n",
        "# Criar legenda customizada\n",
        "legenda_isocronas = [\n",
        "    Line2D([0], [0], color=cores[i], lw=10, alpha=0.6, label=f\"≤ {r} m\")\n",
        "    for i, r in enumerate(sorted(raios_m, reverse=True))\n",
        "]\n",
        "legenda_escola = Line2D([0], [0], marker=\"o\", color=\"red\", label=\"Escola central\", markersize=10)\n",
        "\n",
        "plt.legend(handles=legenda_isocronas + [legenda_escola], loc=\"upper right\")\n",
        "plt.title(f\"Isócronas por distância ao longo da rede – {escola_central_nome.title()}\")\n",
        "plt.xlabel(\"Leste (m)\")\n",
        "plt.ylabel(\"Norte (m)\")\n",
        "plt.grid(True, linewidth=0.3, alpha=0.4)\n",
        "plt.tight_layout()\n",
        "plt.show()\n"
      ],
      "metadata": {
        "id": "W7lRPHsaLgmB"
      },
      "execution_count": null,
      "outputs": []
    }
  ]
}