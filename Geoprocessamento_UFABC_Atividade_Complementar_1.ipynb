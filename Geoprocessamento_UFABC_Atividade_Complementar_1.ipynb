{
  "nbformat": 4,
  "nbformat_minor": 0,
  "metadata": {
    "colab": {
      "provenance": [],
      "authorship_tag": "ABX9TyOJ0Vk06b4S/HnK1HI6st7h",
      "include_colab_link": true
    },
    "kernelspec": {
      "name": "python3",
      "display_name": "Python 3"
    },
    "language_info": {
      "name": "python"
    }
  },
  "cells": [
    {
      "cell_type": "markdown",
      "metadata": {
        "id": "view-in-github",
        "colab_type": "text"
      },
      "source": [
        "<a href=\"https://colab.research.google.com/github/JADEJACOMINI/Geoprocessamento_UFABC/blob/main/Geoprocessamento_UFABC_Atividade_Complementar_1.ipynb\" target=\"_parent\"><img src=\"https://colab.research.google.com/assets/colab-badge.svg\" alt=\"Open In Colab\"/></a>"
      ]
    },
    {
      "cell_type": "markdown",
      "source": [
        "**Exercício 1:**  Variáveis e Impressão de Dados"
      ],
      "metadata": {
        "id": "UsoSNAZ5rkxs"
      }
    },
    {
      "cell_type": "code",
      "source": [
        "cidade = 'Florianópolis'\n",
        "print ('O nome da cidade é', cidade)"
      ],
      "metadata": {
        "colab": {
          "base_uri": "https://localhost:8080/",
          "height": 0
        },
        "id": "jm5IyB0trxv7",
        "outputId": "e7e9334f-9ea4-4831-850b-69d96c00fe05"
      },
      "execution_count": 7,
      "outputs": [
        {
          "output_type": "stream",
          "name": "stdout",
          "text": [
            "O nome da cidade é Florianópolis\n"
          ]
        }
      ]
    },
    {
      "cell_type": "markdown",
      "source": [
        "**Exercício 2:**  Entrada de Dados\n",
        "\n"
      ],
      "metadata": {
        "id": "Mut2kM6or8ZL"
      }
    },
    {
      "cell_type": "code",
      "source": [
        "area = input('Digite área do munícipio em km²: ')\n",
        "print('A área do município de', cidade, 'é de', area, 'km².')"
      ],
      "metadata": {
        "colab": {
          "base_uri": "https://localhost:8080/",
          "height": 0
        },
        "id": "jrTk6AtFsypV",
        "outputId": "748770a8-2006-463d-c116-ca7e5828c80c"
      },
      "execution_count": 14,
      "outputs": [
        {
          "output_type": "stream",
          "name": "stdout",
          "text": [
            "Digite área do munícipio em km²: 675,2\n",
            "A área do município de Florianópolis é de 675,2 km².\n"
          ]
        }
      ]
    },
    {
      "cell_type": "markdown",
      "source": [
        "**Exercício 3:**  Tipos de Dados – Inteiros e Floats"
      ],
      "metadata": {
        "id": "T4UNbCopuoad"
      }
    },
    {
      "cell_type": "code",
      "source": [
        "habitantes = input('Digite o número de habitantes do município: ')\n",
        "altitude = input('Digite a altitude média da cidade em metros: ')\n",
        "print('O município de', cidade, 'possui', habitantes, 'habitantes e uma altitude média de', altitude, 'm.')"
      ],
      "metadata": {
        "colab": {
          "base_uri": "https://localhost:8080/",
          "height": 0
        },
        "id": "rp9lrTnCutTh",
        "outputId": "e44d4cd0-beae-45b3-adb4-63a889ae5349"
      },
      "execution_count": 18,
      "outputs": [
        {
          "output_type": "stream",
          "name": "stdout",
          "text": [
            "Digite o número de habitantes do município: 537.211\n",
            "Digite a altitude média da cidade em metros: 3\n",
            "O município de Florianópolis possui 537.211 habitantes e uma altitude média de 3 m.\n"
          ]
        }
      ]
    },
    {
      "cell_type": "markdown",
      "source": [
        "**Exercício 4:** Operadores Aritméticos"
      ],
      "metadata": {
        "id": "4m15msxRvqc3"
      }
    },
    {
      "cell_type": "code",
      "source": [
        "populacao_urbana = int(input('Digite o número de habitantes da área urbana: '))\n",
        "populacao_rural = int(input('Digite o número de habitantes da área rural: '))\n",
        "populacao_total = populacao_urbana + populacao_rural\n",
        "print('O município de', cidade, 'possui uma população total de', populacao_total,'.')"
      ],
      "metadata": {
        "colab": {
          "base_uri": "https://localhost:8080/",
          "height": 0
        },
        "id": "QplamGlBvYd6",
        "outputId": "cc9d3b1f-17e1-4766-f13f-feb9a6d31267"
      },
      "execution_count": 22,
      "outputs": [
        {
          "output_type": "stream",
          "name": "stdout",
          "text": [
            "Digite o número de habitantes da área urbana: 517000\n",
            "Digite o número de habitantes da área rural: 20300\n",
            "O município de Florianópolis possui uma população total de 537300 .\n"
          ]
        }
      ]
    },
    {
      "cell_type": "markdown",
      "source": [
        "**Exercício 5:** Booleanos – Comparação de Números\n"
      ],
      "metadata": {
        "id": "mnKagvlLzVKc"
      }
    },
    {
      "cell_type": "code",
      "source": [
        "area1 = 250\n",
        "area2 = 150\n",
        "resultado_comparacao = area1 > area2\n",
        "print('O resultado da comparação: \"A área 1 é maior que a Área 2\" é:', resultado_comparacao)"
      ],
      "metadata": {
        "colab": {
          "base_uri": "https://localhost:8080/",
          "height": 0
        },
        "id": "KWmCYE-mzaxW",
        "outputId": "04fccb02-dad3-4c6f-b5bd-52331b938084"
      },
      "execution_count": 28,
      "outputs": [
        {
          "output_type": "stream",
          "name": "stdout",
          "text": [
            "O resultado da comparação: \"A área 1 é maior que a Área 2\" é: True\n"
          ]
        }
      ]
    },
    {
      "cell_type": "markdown",
      "source": [
        "**Exercício 6:** Criando e Acessando Elementos"
      ],
      "metadata": {
        "id": "H-fl12NlyLkO"
      }
    },
    {
      "cell_type": "code",
      "source": [
        "biomas = ['Amazônia','Cerrado','Pantanal']\n",
        "print('O segundo bioma da lista é o:',biomas[1])"
      ],
      "metadata": {
        "colab": {
          "base_uri": "https://localhost:8080/",
          "height": 0
        },
        "id": "DZN5Iu31xHHK",
        "outputId": "df34a87e-afe1-4f34-81c1-1f0497927097"
      },
      "execution_count": 24,
      "outputs": [
        {
          "output_type": "stream",
          "name": "stdout",
          "text": [
            "O segundo bioma da lista é o: Cerrado\n"
          ]
        }
      ]
    },
    {
      "cell_type": "markdown",
      "source": [
        "**Exercício 7:** Usando append() para Adicionar um Novo Bioma"
      ],
      "metadata": {
        "id": "Xtx5kqdlzMqf"
      }
    },
    {
      "cell_type": "code",
      "source": [
        "biomas = ['Amazônia','Cerrado','Pantanal']\n",
        "biomas.append('Mata Atlântica')\n",
        "print('A lista completa de biomas é:', biomas)"
      ],
      "metadata": {
        "colab": {
          "base_uri": "https://localhost:8080/",
          "height": 0
        },
        "id": "-IXYQmauzA3q",
        "outputId": "2405ee09-c5b9-4edb-b4dc-c932fa5c6743"
      },
      "execution_count": 41,
      "outputs": [
        {
          "output_type": "stream",
          "name": "stdout",
          "text": [
            "A lista completa de biomas é: ['Amazônia', 'Cerrado', 'Pantanal', 'Mata Atlântica']\n"
          ]
        }
      ]
    },
    {
      "cell_type": "markdown",
      "source": [
        "**Exercício 8:** Contando Elementos em uma Lista\n"
      ],
      "metadata": {
        "id": "Wej0rY4o12n_"
      }
    },
    {
      "cell_type": "code",
      "source": [
        "num_elementos = len(biomas)\n",
        "print('A lista de biomas possui', num_elementos, 'elementos.')"
      ],
      "metadata": {
        "colab": {
          "base_uri": "https://localhost:8080/",
          "height": 0
        },
        "id": "wZ-Ouy5-17DC",
        "outputId": "c32a67cf-4711-42bf-f969-3bc2d3ae2d57"
      },
      "execution_count": 42,
      "outputs": [
        {
          "output_type": "stream",
          "name": "stdout",
          "text": [
            "A lista de biomas possui 4 elementos.\n"
          ]
        }
      ]
    },
    {
      "cell_type": "markdown",
      "source": [
        "**Exercício 9:**  Armazenamento de Coordenadas Geográficas em uma Tupla\n"
      ],
      "metadata": {
        "id": "S4FeJ6HB3dFe"
      }
    },
    {
      "cell_type": "code",
      "source": [
        "coordenadas = (-15.7939, -47.8828)\n",
        "print('As coordenadas geográficas de Brasília são aproximadamente: ', coordenadas)"
      ],
      "metadata": {
        "colab": {
          "base_uri": "https://localhost:8080/",
          "height": 0
        },
        "id": "m419sgEJ3il5",
        "outputId": "e327e998-21af-42f1-c443-262ebecb03cf"
      },
      "execution_count": 43,
      "outputs": [
        {
          "output_type": "stream",
          "name": "stdout",
          "text": [
            "As coordenadas geográficas de Brasília são aproximadamente:  (-15.7939, -47.8828)\n"
          ]
        }
      ]
    },
    {
      "cell_type": "markdown",
      "source": [
        "**Exercício 10:** Criação e Manipulação de um Dicionário\n"
      ],
      "metadata": {
        "id": "PmtR2Ir24VLo"
      }
    },
    {
      "cell_type": "code",
      "source": [
        "dados_municipio = {\n",
        "                  'nome':'São Paulo',\n",
        "                  'população':12325232,\n",
        "                  'area_km2':1521.11\n",
        "                  }\n",
        "densidade_demografica = dados_municipio['população']/dados_municipio['area_km2']\n",
        "dados_municipio['densidade_demografica'] = densidade_demografica\n",
        "\n",
        "print('O dicionário completo é:', dados_municipio)"
      ],
      "metadata": {
        "colab": {
          "base_uri": "https://localhost:8080/",
          "height": 0
        },
        "id": "nHjhTq6i4nEC",
        "outputId": "f0d929c8-bdf3-42a6-a45a-dd85b7818500"
      },
      "execution_count": 48,
      "outputs": [
        {
          "output_type": "stream",
          "name": "stdout",
          "text": [
            "O dicionário completo é: {'nome': 'São Paulo', 'população': 12325232, 'area_km2': 1521.11, 'densidade_demografica': 8102.788095535498}\n"
          ]
        }
      ]
    }
  ]
}