{
  "nbformat": 4,
  "nbformat_minor": 0,
  "metadata": {
    "colab": {
      "provenance": [],
      "authorship_tag": "ABX9TyNyXy++abtG4lTUwVIBlKPa",
      "include_colab_link": true
    },
    "kernelspec": {
      "name": "python3",
      "display_name": "Python 3"
    },
    "language_info": {
      "name": "python"
    }
  },
  "cells": [
    {
      "cell_type": "markdown",
      "metadata": {
        "id": "view-in-github",
        "colab_type": "text"
      },
      "source": [
        "<a href=\"https://colab.research.google.com/github/JADEJACOMINI/Geoprocessamento_UFABC/blob/main/Atividade_avaliativa_1_Jade_Jacomini.ipynb\" target=\"_parent\"><img src=\"https://colab.research.google.com/assets/colab-badge.svg\" alt=\"Open In Colab\"/></a>"
      ]
    },
    {
      "cell_type": "markdown",
      "source": [
        "<div style=\"text-align: justify;\">\n",
        "\n",
        "**Exercício 1: Condicionais Simples com if**\n",
        "\n",
        "Neste exercício, você deve verificar a declividade de um relevo e classificar se\n",
        "ele é plano ou não. Para tanto, siga as seguintes etapas:\n",
        "\n",
        "**a)** Peça para o usuário digitar a declividade do relevo (em porcentagem). Use a função input() para receber o valor.\n",
        "\n",
        "**b)** Verifique se a declividade está entre 0 e 3%. Se sim, imprima \"Relevo plano\". Caso contrário, imprima \"Relevo não é plano\".\n",
        "\n",
        "**c)** Use a função print() para exibir o resultado.\n",
        "\n"
      ],
      "metadata": {
        "id": "0hvl3gpwzX95"
      }
    },
    {
      "cell_type": "code",
      "source": [
        "#Letra a)\n",
        "declividade_relevo = input(\"Digite a declividade do relevo (em porcentagem):\")\n",
        "declividade_relevo = float(declividade_relevo)\n",
        "\n",
        "#Letras b) e c)\n",
        "if declividade_relevo >= 0 and declividade_relevo <= 3:\n",
        "  print(\"Relevo plano.\")\n",
        "else:\n",
        "  print(\"Relevo não é plano.\")"
      ],
      "metadata": {
        "colab": {
          "base_uri": "https://localhost:8080/"
        },
        "id": "OGdzBkP94ZIy",
        "outputId": "4ad7e541-faa7-4d53-cded-84d9421f8576"
      },
      "execution_count": null,
      "outputs": [
        {
          "output_type": "stream",
          "name": "stdout",
          "text": [
            "Digite a declividade do relevo (em porcentagem):6\n",
            "Relevo não é plano.\n"
          ]
        }
      ]
    },
    {
      "cell_type": "markdown",
      "source": [
        "**Exercício 2: Estruturas Condicionais – Uso do if, elif e else com Múltiplas\n",
        "Condições**\n",
        "\n",
        "Neste exercício, você deve classificar o relevo de um terreno com base na\n",
        "declividade informada pelo usuário, utilizando estruturas condicionais. Para tanto, siga as seguintes etapas:\n",
        "\n",
        "a) Peça ao usuário para digitar a declividade do terreno (em porcentagem). Use a\n",
        "função input() para receber o valor e armazene-o em uma variável.\n",
        "\n",
        "b) Utilize as estruturas condicionais if, elif e else p\n",
        "ara classificar o relevo de acordo com a tabela a seguir:\n",
        "\n",
        "*   Relevo plano: 0–3%\n",
        "*   Suave ondulado: 3–8%\n",
        "*   Ondulado: 8–20%\n",
        "*   Forte ondulado: 20–45%\n",
        "*   Montanhoso: 45–75%\n",
        "*   Escarpado: >75%\n",
        "\n",
        "c) Imprima a classificação do relevo com base na declividade fornecida. Para isso, use a função print().\n"
      ],
      "metadata": {
        "id": "CWWI2adfzjnR"
      }
    },
    {
      "cell_type": "code",
      "source": [
        "#Letra a)\n",
        "declividade_terreno = input(\"Digite a declividade do terreno (em porcentagem):\")\n",
        "declividade_terreno = float(declividade_terreno)\n",
        "\n",
        "#Letras b) e c)\n",
        "if declividade_terreno >= 0 and declividade_terreno <= 3:\n",
        "  print(\"O terreno possui relevo plano.\")\n",
        "elif declividade_terreno > 3 and declividade_terreno <= 8:\n",
        "  print(\"O terreno possui relevo suave ondulado.\")\n",
        "elif declividade_terreno > 8 and declividade_terreno <= 20:\n",
        "  print(\"O terreno possui relevo ondulado.\")\n",
        "elif declividade_terreno > 20 and declividade_terreno <= 45:\n",
        "  print(\"O terreno possui relevo forte ondulado.\")\n",
        "elif declividade_terrano > 45 and declividade_terreno <= 75:\n",
        "  print(\"O terreno possui relevo montanhoso.\")\n",
        "else:\n",
        "  print(\"O terreno possui relevo escarpado.\")\n"
      ],
      "metadata": {
        "colab": {
          "base_uri": "https://localhost:8080/"
        },
        "id": "7nIknzhuH-mU",
        "outputId": "5d500c27-22c4-40de-8a2a-6ed70a03283a"
      },
      "execution_count": null,
      "outputs": [
        {
          "output_type": "stream",
          "name": "stdout",
          "text": [
            "Digite a declividade do terreno (em porcentagem):12\n",
            "O terreno possui relevo ondulado.\n"
          ]
        }
      ]
    },
    {
      "cell_type": "markdown",
      "source": [
        "**Exercício 3: Verificação de Áreas Alagadas e Suscetibilidade a Deslizamentos**\n",
        "\n",
        "Neste exercício, você deve criar variáveis para indicar condições de risco em um\n",
        "terreno e, em seguida, usar uma estrutura condicional para verificar as condições e exibir mensagens apropriadas. Para tanto, siga as seguintes etapas:\n",
        "\n",
        "a) Crie duas variáveis:\n",
        "\n",
        "*   area_alagada: que indica se a área está sujeita a alagamentos (use True ou False).\n",
        "*   risco_deslizamento: que indica se o terreno tem risco de deslizamento (use\n",
        "True ou False).\n",
        "\n",
        "b) Utilize uma estrutura condicional if, elif e else para verificar as condições de alagamento e deslizamento, e imprimir as mensagens adequadas:\n",
        "\n",
        "\n",
        "\n",
        "*   Se a área estiver sujeita a alagamentos (area_alagada == True), imprima\n",
        "\"Área sujeita a alagamentos. Construção proibida.\"\n",
        "*   Caso contrário, se o terreno tiver risco de deslizamento (risco_deslizamento\n",
        "== True), imprima \"Terreno com risco de deslizamento. Construção não\n",
        "recomendada.\"\n",
        "*   Se nenhuma das condições for verdadeira, imprima \"Terreno seguro para\n",
        "construção.\"\n",
        "\n",
        "c) Mostre na tela a mensagem correta com base nas condições avaliadas. Para isso, use a função print().\n"
      ],
      "metadata": {
        "id": "7H-nMq__1F-a"
      }
    },
    {
      "cell_type": "code",
      "source": [
        "#Letra a)\n",
        "area_alagada = True\n",
        "risco_deslizamento = False\n",
        "\n",
        "#Letra b) e c)\n",
        "if area_alagada == True:\n",
        "  print(\"Área sujeita a alagamentos. Construção proibida.\")\n",
        "elif risco_deslizamento == True:\n",
        "  print(\"Terreno com risco de deslizamento. Construção não recomendada.\")\n",
        "else:\n",
        "  print(\"Terreno seguro para construção\")"
      ],
      "metadata": {
        "colab": {
          "base_uri": "https://localhost:8080/"
        },
        "id": "XwPPCVLoJsF5",
        "outputId": "37d54c68-72fe-4816-9797-98f6dfe1c9d2"
      },
      "execution_count": null,
      "outputs": [
        {
          "output_type": "stream",
          "name": "stdout",
          "text": [
            "Área sujeita a alagamentos. Construção proibida.\n"
          ]
        }
      ]
    },
    {
      "cell_type": "markdown",
      "source": [
        "**Exercício 4: Aninhamento de Declarações Condicionais**\n",
        "\n",
        "Neste exercício, você deve verificar as condições de um terreno com base na\n",
        "declividade e na presença de uma zona protegida, utilizando estruturas condicionais aninhadas. Para tanto, siga as seguintes etapas:\n",
        "\n",
        "a) Peça ao usuário para digitar o valor da declividade do terreno (em porcentagem) e armazene-o em uma variável. Use a função input() para receber o valor.\n",
        "\n",
        "b) Verifique se a declividade é maior que 20%. Se for, verifique se a área está em uma zona protegida. Para isso, crie uma variável booleana chamada zona_protegida e defina se o valor é True ou False.\n",
        "\n",
        "c) Se a declividade for maior que 20% e a área estiver em uma zona protegida,\n",
        "imprima \"Construção proibida\". Caso contrário, se a declividade for maior que 20% e não for uma zona protegida, imprima \"Construção permitida com restrições\".\n",
        "\n",
        "d) Se a declividade for menor ou igual a 20%, imprima \"Construção permitida com\n",
        "supervisão\".\n",
        "\n",
        "e) Mostre na tela a mensagem correta com base nas condições avaliadas. Para isso, use a função print()."
      ],
      "metadata": {
        "id": "nWT1O7321p2_"
      }
    },
    {
      "cell_type": "code",
      "source": [
        "#Letra a)\n",
        "declividade_do_terreno = input(\"Digite a declividade do terreno (em porcentagem):\")\n",
        "declividade_do_terreno = float(declividade_terreno)\n",
        "\n",
        "#Letra b)\n",
        "if declividade_do_terreno > 20:\n",
        "  zona_protegida = True\n",
        "  if zona_protegida == True:\n",
        "    print(\"Construção proibida.\") #Letra d)\n",
        "  else:\n",
        "    print(\"Construção permitida com restrições.\") #Letra d)\n",
        "\n",
        "#Letra c)\n",
        "else:\n",
        "  print(\"Construção permitida com supervisão.\") #Letra d)"
      ],
      "metadata": {
        "colab": {
          "base_uri": "https://localhost:8080/"
        },
        "id": "hW1DFJ8lKVk6",
        "outputId": "29c6cbea-162e-4043-b00a-117503c7c4e2"
      },
      "execution_count": null,
      "outputs": [
        {
          "output_type": "stream",
          "name": "stdout",
          "text": [
            "Digite a declividade do terreno (em porcentagem):25\n",
            "Construção permitida com supervisão.\n"
          ]
        }
      ]
    },
    {
      "cell_type": "markdown",
      "source": [
        "**Exercício 5: Loop for**\n",
        "\n",
        "Neste exercício, você deve utilizar um loop for para percorrer uma lista de\n",
        "altitudes e exibir cada valor. Para tanto, siga as seguintes etapas:\n",
        "\n",
        "a) Crie uma lista chamada altitudes que contenha os valores [300, 450, 150, 600,\n",
        "700], representando as altitudes de 5 pontos.\n",
        "\n",
        "b) Use um loop for para percorrer cada valor da lista altitudes e imprimir a altitude de cada ponto.\n",
        "\n",
        "c) Mostre na tela o valor de cada altitude durante a execução do loop. Para isso, use a função print() dentro do loop.\n"
      ],
      "metadata": {
        "id": "7xUvV69N1z8Z"
      }
    },
    {
      "cell_type": "code",
      "source": [
        "#Letra a)\n",
        "\n",
        "altitudes = [300, 450, 150, 600, 700]\n",
        "print (altitudes)\n",
        "\n",
        "#Espaço vazio entre as questões\n",
        "print()\n",
        "\n",
        "#Letra b)\n",
        "for altitude in altitudes:\n",
        "  print(altitude) #Letra c)\n",
        "\n",
        "\n"
      ],
      "metadata": {
        "colab": {
          "base_uri": "https://localhost:8080/"
        },
        "id": "N2rpiAZVLeQ_",
        "outputId": "9a61b317-c11e-4e5a-db30-74ed39fbfaca"
      },
      "execution_count": null,
      "outputs": [
        {
          "output_type": "stream",
          "name": "stdout",
          "text": [
            "[300, 450, 150, 600, 700]\n",
            "\n",
            "300\n",
            "450\n",
            "150\n",
            "600\n",
            "700\n"
          ]
        }
      ]
    },
    {
      "cell_type": "markdown",
      "source": [
        "**Exercício 6: Função range()**\n",
        "\n",
        "Neste exercício, você deve usar a função range() para criar um loop que\n",
        "imprima coordenadas UTM (X, Y) com incrementos específicos. Para tanto, siga as\n",
        "seguintes etapas:\n",
        "\n",
        "a) Use a função range() para criar um loop que gere valores para a coordenada X,\n",
        "começando em 500000 e aumentando de 1000 em 1000 até 504000.\n",
        "\n",
        "b) Ao mesmo tempo, crie outro range() para a coordenada Y, começando em\n",
        "6200000 e aumentando de 500 em 500.\n",
        "\n",
        "c) No corpo do loop, imprima as coordenadas UTM (X, Y) correspondentes a cada\n",
        "iteração. Use a função print() para exibir os valores."
      ],
      "metadata": {
        "id": "DqcGPY2c14K6"
      }
    },
    {
      "cell_type": "code",
      "source": [
        "for X in range(500000, 504000, 1000): #Letra a)\n",
        "  print (X)\n",
        "\n",
        "#Espaço vazio entre as questões\n",
        "print()\n",
        "\n",
        "X = range(500000, 504001, 1000)  #Letra b)\n",
        "Y = range(6200000, 6200000 + (len(X) * 500), 500)  #Letra b)\n",
        "\n",
        "#Letra c)  Usando zip() para combinar os valores de X e Y\n",
        "for X,Y in zip(X, Y):\n",
        "    print(f\"Coordenada UTM: X = {X}, Y = {Y}\")\n",
        "\n"
      ],
      "metadata": {
        "colab": {
          "base_uri": "https://localhost:8080/"
        },
        "id": "xGPdQ3dDNKdp",
        "outputId": "7b5c110f-749c-4200-a3ef-77964ebde068"
      },
      "execution_count": null,
      "outputs": [
        {
          "output_type": "stream",
          "name": "stdout",
          "text": [
            "500000\n",
            "501000\n",
            "502000\n",
            "503000\n",
            "\n",
            "Coordenada UTM: X = 500000, Y = 6200000\n",
            "Coordenada UTM: X = 501000, Y = 6200500\n",
            "Coordenada UTM: X = 502000, Y = 6201000\n",
            "Coordenada UTM: X = 503000, Y = 6201500\n",
            "Coordenada UTM: X = 504000, Y = 6202000\n"
          ]
        }
      ]
    },
    {
      "cell_type": "markdown",
      "source": [
        "**Exercício 8: Loop whil**\n",
        "\n",
        "Neste exercício, você deve usar um loop while para calcular e exibir o valor\n",
        "acumulado de uma série de incrementos de altitude. Para tanto, siga as seguintes\n",
        "etapas:\n",
        "\n",
        "a) Defina uma variável chamada altitude_inicial com o valor de 100 metros. Em\n",
        "seguida, defina outra variável chamada incremento com o valor de 50 metros.\n",
        "\n",
        "b) Use um loop while para continuar somando o valor do incremento à variável\n",
        "altitude_inicial até que a altitude alcance ou ultrapasse 500 metros.\n",
        "\n",
        "c) Durante cada iteração, mostre na tela o valor atual da altitude. Use a função\n",
        "print() para exibir os valores."
      ],
      "metadata": {
        "id": "qZpq9oZ519EB"
      }
    },
    {
      "cell_type": "code",
      "source": [
        "#Letra a)\n",
        "altitude_inicial = 100\n",
        "incremento = 50\n",
        "\n",
        "#Letra b)\n",
        "while altitude_inicial <= 500:\n",
        "  altitude_inicial += incremento\n",
        "  print(f\"Altitude atual é igual a {altitude_inicial}\") #Letra c)"
      ],
      "metadata": {
        "colab": {
          "base_uri": "https://localhost:8080/"
        },
        "id": "oTWib7-9S1jp",
        "outputId": "ee731f90-55fc-46e7-a0ae-e459dca87a0c"
      },
      "execution_count": null,
      "outputs": [
        {
          "output_type": "stream",
          "name": "stdout",
          "text": [
            "Altitude atual é igual a 150\n",
            "Altitude atual é igual a 200\n",
            "Altitude atual é igual a 250\n",
            "Altitude atual é igual a 300\n",
            "Altitude atual é igual a 350\n",
            "Altitude atual é igual a 400\n",
            "Altitude atual é igual a 450\n",
            "Altitude atual é igual a 500\n",
            "Altitude atual é igual a 550\n"
          ]
        }
      ]
    },
    {
      "cell_type": "markdown",
      "source": [
        "**Exercício 9: Controle de Loop com break**\n",
        "\n",
        "Neste exercício, você deve criar um loop que peça ao usuário para inserir\n",
        "valores de declividade de terrenos. O loop será interrompido se for detectada uma condição específica. Para tanto, siga as seguintes etapas:\n",
        "\n",
        "**a)** Crie um loop que peça ao usuário para digitar um valor de declividade de terreno (em porcentagem). Use a função input() para receber o valor e armazene-o em uma variável.\n",
        "\n",
        "**b)** Dentro do loop, verifique se o valor digitado é maior que 50%. Se for, interrompa o loop usando a instrução break.\n",
        "\n",
        "**c)** Se o loop for interrompido, imprima a mensagem \"Declividade muito alta. Entrada interrompida\"."
      ],
      "metadata": {
        "id": "Xabvvb-rTZJS"
      }
    },
    {
      "cell_type": "code",
      "source": [
        "\n",
        "while True:\n",
        "    declividade_de_terreno = float(input(\"Digite a declividade do terreno (em porcentagem):\")) #Letra a)\n",
        "    if declividade_de_terreno > 50:\n",
        "        print(\"Declividade muito alta. Entrada interrompida.\")  #Letra c)\n",
        "        break #Letra b)\n",
        "    else:\n",
        "        print(f\"Declividade do terreno é {declividade_de_terreno}\")"
      ],
      "metadata": {
        "colab": {
          "base_uri": "https://localhost:8080/"
        },
        "id": "DQo88eaFTmi6",
        "outputId": "b048e89d-c145-405d-e6d3-ccb9409891a9"
      },
      "execution_count": null,
      "outputs": [
        {
          "output_type": "stream",
          "name": "stdout",
          "text": [
            "Digite a declividade do terreno (em porcentagem):30\n",
            "Declividade do terreno é 30.0\n",
            "Digite a declividade do terreno (em porcentagem):50\n",
            "Declividade do terreno é 50.0\n",
            "Digite a declividade do terreno (em porcentagem):60\n",
            "Declividade muito alta. Entrada interrompida.\n"
          ]
        }
      ]
    },
    {
      "cell_type": "markdown",
      "source": [
        "**Exercício 10: Funções – Cálculo de Área**\n",
        "\n",
        "Neste exercício, você deve criar uma função para calcular a área de um terreno\n",
        "e utilizá-la para realizar um cálculo. Para tanto, siga as seguintes etapas:\n",
        "\n",
        "a) Crie uma função chamada calcula_area que receba dois parâmetros: o comprimento e a largura de um terreno (em metros). A função deve retornar a área\n",
        "do terreno (em metros quadrados) calculada pela fórmula: comprimento * largura.\n",
        "\n",
        "b) Use a função calcula_area para calcular a área de um terreno com 100 metros\n",
        "de comprimento e 50 metros de largura.\n",
        "\n",
        "c) Mostre na tela a área calculada. Para isso, use a função print() e exiba o\n",
        "resultado em metros quadrados."
      ],
      "metadata": {
        "id": "n8LOKDhm2Au6"
      }
    },
    {
      "cell_type": "code",
      "source": [
        "#Letra a)\n",
        "def calcula_area(comprimento, largura):\n",
        "    return comprimento * largura\n",
        "\n",
        "#Letra b)\n",
        "comprimento = 100  #metros\n",
        "largura = 50  #metros\n",
        "area = calcula_area(comprimento, largura)\n",
        "\n",
        "#Letra c)\n",
        "print(f\"A área do terreno é {area} m².\")\n"
      ],
      "metadata": {
        "colab": {
          "base_uri": "https://localhost:8080/"
        },
        "id": "hZZ5xGxmWlRd",
        "outputId": "b90f5a6d-f0e1-47e5-f85e-d5ba643e71e3"
      },
      "execution_count": null,
      "outputs": [
        {
          "output_type": "stream",
          "name": "stdout",
          "text": [
            "A área do terreno é 5000 m².\n"
          ]
        }
      ]
    },
    {
      "cell_type": "markdown",
      "source": [
        "**Exercício 11: Funções – Cálculo de Densidade Demográfica**\n",
        "\n",
        "Neste exercício, você deve criar uma função para calcular a densidade\n",
        "demográfica de um município. Para tanto, siga as seguintes etapas:\n",
        "\n",
        "a) Crie uma função chamada densidade_demografica que receba dois parâmetros:\n",
        "a população e a área de um município (em km²). A função deve retornar a densidade demográfica, calculada pela fórmula: população / área.\n",
        "\n",
        "b) Use a função densidade_demografica para calcular a densidade de um\n",
        "município fornecendo a população e a área como parâmetros.\n",
        "\n",
        "c) Mostre na tela a densidade demográfica calculada. Para isso, use a função print() e exiba o resultado em habitantes por km²."
      ],
      "metadata": {
        "id": "9wfQrb6D2FSL"
      }
    },
    {
      "cell_type": "code",
      "source": [
        "#Letra a)\n",
        "def densidade_demografica(populacao, area):\n",
        "    return populacao / area\n",
        "\n",
        "#Letra b)\n",
        "populacao = input(\"Digite a população do município (em habitantes):\")\n",
        "populacao = int(populacao)\n",
        "area = input(\"Digite a área do município (em km²):\")\n",
        "area = float(area)\n",
        "densidade = densidade_demografica(populacao, area)\n",
        "\n",
        "#Letra c)\n",
        "print(f\"A densidade demográfica do município é {densidade:.2f} habitantes por km².\")"
      ],
      "metadata": {
        "colab": {
          "base_uri": "https://localhost:8080/"
        },
        "id": "rPkP1K5cY92K",
        "outputId": "ebe79f5f-30de-44da-c9d5-94d8ab0f37ff"
      },
      "execution_count": null,
      "outputs": [
        {
          "output_type": "stream",
          "name": "stdout",
          "text": [
            "Digite a população do município (em habitantes):500000\n",
            "Digite a área do município (em km²):35000\n",
            "A densidade demográfica do município é 14.29 habitantes por km².\n"
          ]
        }
      ]
    },
    {
      "cell_type": "markdown",
      "source": [
        "**Exercício 12: Módulos e Pacotes – Importando o Módulo math**\n",
        "\n",
        "Neste exercício, você deve usar o módulo math para calcular a raiz quadrada de\n",
        "uma área. Para tanto, siga as seguintes etapas:\n",
        "\n",
        "a) Importe o módulo math no início do seu código.\n",
        "\n",
        "b) Use a função math.sqrt() para calcular a raiz quadrada da área de um polígono\n",
        "de 2500 km².\n",
        "\n",
        "c) Mostre na tela o resultado da raiz quadrada da área. Para isso, use a função\n",
        "print()."
      ],
      "metadata": {
        "id": "Bpb0osKq2Ku0"
      }
    },
    {
      "cell_type": "code",
      "source": [
        "#Letra a)\n",
        "\n",
        "import math\n",
        "\n",
        "#Letra b)\n",
        "area = 2500 #em km²\n",
        "raiz_quadrada_area = math.sqrt(area)\n",
        "\n",
        "#Letra c)\n",
        "print(f\"A raiz quadrada da área do polígono de 2500 km² é {raiz_quadrada_area:.2f}.\")"
      ],
      "metadata": {
        "colab": {
          "base_uri": "https://localhost:8080/"
        },
        "id": "ToOwJ5YZZ48y",
        "outputId": "3c281723-dc60-45fe-a498-262458f2fe8a"
      },
      "execution_count": null,
      "outputs": [
        {
          "output_type": "stream",
          "name": "stdout",
          "text": [
            "A raiz quadrada da área do polígono de 2500 km² é 50.00.\n"
          ]
        }
      ]
    },
    {
      "cell_type": "markdown",
      "source": [
        "**Exercício 13: Funções Lambda – Cálculo do Dobro da Área**\n",
        "\n",
        "Neste exercício, você deve criar uma função lambda para calcular o dobro da\n",
        "área de um terreno. Para tanto, siga as seguintes etapas:\n",
        "\n",
        "a) Crie uma função lambda que receba a área de um terreno (em metros quadrados) e retorne o dobro dessa área.\n",
        "\n",
        "b) Use essa função lambda para calcular o dobro de uma área de 1500 m².\n",
        "\n",
        "c) Mostre na tela o resultado do cálculo. Para isso, use a função print()."
      ],
      "metadata": {
        "id": "lZ72LdQs2OXy"
      }
    },
    {
      "cell_type": "code",
      "source": [
        "#Letra a)\n",
        "dobro_area = lambda area: 2 * area\n",
        "\n",
        "#Letra b)\n",
        "area = 1500 #em m²\n",
        "dobro_area_calculada = dobro_area(area)\n",
        "\n",
        "#Letra c)\n",
        "print(f\"O dobro da área de {area} m² é {dobro_area_calculada} m².\")"
      ],
      "metadata": {
        "colab": {
          "base_uri": "https://localhost:8080/"
        },
        "id": "vvfgg4Heab2w",
        "outputId": "f2247764-68ad-4698-f8f5-c5e750869d8f"
      },
      "execution_count": null,
      "outputs": [
        {
          "output_type": "stream",
          "name": "stdout",
          "text": [
            "O dobro da área de 1500 m² é 3000 m².\n"
          ]
        }
      ]
    },
    {
      "cell_type": "markdown",
      "source": [
        "**Exercício 14: Gerenciamento e Tratamento de Exceções**\n",
        "\n",
        "Neste exercício, você deve lidar com possíveis erros ao receber uma entrada do\n",
        "usuário. Para tanto, siga as seguintes etapas:\n",
        "\n",
        "a) Peça ao usuário para digitar um número e converta a entrada para um tipo int.\n",
        "\n",
        "b) Use um bloco try e except para capturar qualquer erro que ocorra, caso o usuário digite algo que não seja um número.\n",
        "\n",
        "c) Se ocorrer um erro, imprima a mensagem \"Erro: Por favor, insira um número válido.\"\n"
      ],
      "metadata": {
        "id": "r66BjAzj2R3R"
      }
    },
    {
      "cell_type": "code",
      "source": [
        "#Letra a)\n",
        "try:\n",
        "  numero = int(input(\"Digite um número:\"))\n",
        "  print (f\"O valor digitado foi: {numero}\")\n",
        "\n",
        "#Letra b)\n",
        "except ValueError:\n",
        "  print(\"Erro: Por favor, insira um número válido.\")\n"
      ],
      "metadata": {
        "colab": {
          "base_uri": "https://localhost:8080/"
        },
        "id": "vt1RLaj2az28",
        "outputId": "7dd2cd7f-b515-4a17-8b4f-722fa0757582"
      },
      "execution_count": null,
      "outputs": [
        {
          "output_type": "stream",
          "name": "stdout",
          "text": [
            "Digite um número:Teste\n",
            "Erro: Por favor, insira um número válido.\n"
          ]
        }
      ]
    },
    {
      "cell_type": "markdown",
      "source": [
        "**Exercício 15: Trabalhando com Datas e Horas – Módulo datetime**\n",
        "\n",
        "Neste exercício, você deve usar o módulo datetime para obter e manipular\n",
        "informações sobre a data e a hora. Para tanto, siga as seguintes etapas:\n",
        "\n",
        "a) Importe o módulo datetime no início do seu código.\n",
        "\n",
        "b) Use o módulo datetime para obter a data e hora atuais e armazene essa\n",
        "informação em uma variável.\n",
        "\n",
        "c) Imprima a data e hora atuais no formato: \"dd/mm/yyyy hh:mm"
      ],
      "metadata": {
        "id": "nMq_aVPO2WFi"
      }
    },
    {
      "cell_type": "code",
      "source": [
        "#Letra a)\n",
        "from datetime import datetime, date, time, timedelta\n",
        "\n",
        "#Letra b)\n",
        "data_e_hora = datetime.now()\n",
        "\n",
        "#Letra c)\n",
        "print(data_e_hora.strftime(\"%d/%m/%Y %H:%M\"))\n",
        "#Obs: A hora está saindo 3 horas adiantada."
      ],
      "metadata": {
        "colab": {
          "base_uri": "https://localhost:8080/"
        },
        "id": "ybNiHuACcnOj",
        "outputId": "a05b710f-fb8a-445e-ff71-75727d8c2524"
      },
      "execution_count": null,
      "outputs": [
        {
          "output_type": "stream",
          "name": "stdout",
          "text": [
            "10/11/2024 23:43\n"
          ]
        }
      ]
    },
    {
      "cell_type": "code",
      "source": [
        "from google.colab import drive\n",
        "drive.mount('/content/drive')\n"
      ],
      "metadata": {
        "colab": {
          "base_uri": "https://localhost:8080/"
        },
        "id": "4cMzSC6p6WXT",
        "outputId": "49014ece-1c26-4d6d-a85e-45569820ed25"
      },
      "execution_count": null,
      "outputs": [
        {
          "output_type": "stream",
          "name": "stdout",
          "text": [
            "Mounted at /content/drive\n"
          ]
        }
      ]
    }
  ]
}